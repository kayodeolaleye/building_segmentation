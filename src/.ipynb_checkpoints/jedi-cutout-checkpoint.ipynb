{
 "cells": [
  {
   "cell_type": "code",
   "execution_count": 1,
   "metadata": {
    "ExecuteTime": {
     "end_time": "2017-12-02T14:43:47.963793+02:00",
     "start_time": "2017-12-02T14:43:47.918621"
    },
    "collapsed": true,
    "run_control": {
     "frozen": false,
     "read_only": false
    }
   },
   "outputs": [],
   "source": [
    "%load_ext autoreload\n",
    "%autoreload 2"
   ]
  },
  {
   "cell_type": "code",
   "execution_count": 2,
   "metadata": {
    "ExecuteTime": {
     "end_time": "2017-12-02T14:43:53.024482+02:00",
     "start_time": "2017-12-02T14:43:48.673785"
    },
    "run_control": {
     "frozen": false,
     "read_only": false
    }
   },
   "outputs": [
    {
     "name": "stderr",
     "output_type": "stream",
     "text": [
      "/apps/chpc/bio/python/3.6.0_gcc-6.3.0/lib/python3.6/site-packages/sklearn/cross_validation.py:44: DeprecationWarning: This module was deprecated in version 0.18 in favor of the model_selection module into which all the refactored classes and functions are moved. Also note that the interface of the new CV iterators are different from that of this module. This module will be removed in 0.20.\n",
      "  \"This module will be removed in 0.20.\", DeprecationWarning)\n"
     ]
    },
    {
     "ename": "ModuleNotFoundError",
     "evalue": "No module named 'tqdm'",
     "output_type": "error",
     "traceback": [
      "\u001b[0;31m---------------------------------------------------------------------------\u001b[0m",
      "\u001b[0;31mModuleNotFoundError\u001b[0m                       Traceback (most recent call last)",
      "\u001b[0;32m<ipython-input-2-e81d6496a2c5>\u001b[0m in \u001b[0;36m<module>\u001b[0;34m()\u001b[0m\n\u001b[1;32m     28\u001b[0m \u001b[0;32mfrom\u001b[0m \u001b[0mskimage\u001b[0m \u001b[0;32mimport\u001b[0m \u001b[0mio\u001b[0m\u001b[0;34m\u001b[0m\u001b[0m\n\u001b[1;32m     29\u001b[0m \u001b[0;32mimport\u001b[0m \u001b[0mskimage\u001b[0m\u001b[0;34m.\u001b[0m\u001b[0mtransform\u001b[0m\u001b[0;34m\u001b[0m\u001b[0m\n\u001b[0;32m---> 30\u001b[0;31m \u001b[0;32mfrom\u001b[0m \u001b[0mtqdm\u001b[0m \u001b[0;32mimport\u001b[0m \u001b[0mtqdm\u001b[0m\u001b[0;34m\u001b[0m\u001b[0m\n\u001b[0m\u001b[1;32m     31\u001b[0m \u001b[0;34m\u001b[0m\u001b[0m\n\u001b[1;32m     32\u001b[0m \u001b[0mget_ipython\u001b[0m\u001b[0;34m(\u001b[0m\u001b[0;34m)\u001b[0m\u001b[0;34m.\u001b[0m\u001b[0mmagic\u001b[0m\u001b[0;34m(\u001b[0m\u001b[0;34m'matplotlib inline'\u001b[0m\u001b[0;34m)\u001b[0m\u001b[0;34m\u001b[0m\u001b[0m\n",
      "\u001b[0;31mModuleNotFoundError\u001b[0m: No module named 'tqdm'"
     ]
    }
   ],
   "source": [
    "#import rasterio\n",
    "import os, sys\n",
    "import itertools\n",
    "import matplotlib.pyplot as plt\n",
    "import pickle\n",
    "import matplotlib\n",
    "import numpy as np\n",
    "import tifffile as tiff\n",
    "from numpy.random import normal, shuffle\n",
    "import scipy.stats as stats\n",
    "import pandas as pd\n",
    "from collections import defaultdict, Counter\n",
    "from matplotlib import gridspec\n",
    "from ipywidgets import interact, IntSlider\n",
    "from IPython.display import display\n",
    "from sklearn import model_selection, metrics\n",
    "from sklearn.tree import DecisionTreeClassifier\n",
    "from sklearn.linear_model import LogisticRegression\n",
    "from sklearn.ensemble import RandomForestClassifier\n",
    "from sklearn.cross_validation import KFold, StratifiedKFold, cross_val_score\n",
    "from sklearn.metrics import auc, roc_auc_score, roc_curve, precision_recall_curve\n",
    "\n",
    "import PIL.Image as Image\n",
    "import PIL.ImageColor as ImageColor\n",
    "import PIL.ImageDraw as ImageDraw\n",
    "import PIL.ImageFont as ImageFont\n",
    "\n",
    "from skimage import io\n",
    "import skimage.transform\n",
    "from tqdm import tqdm\n",
    "\n",
    "%matplotlib inline"
   ]
  },
  {
   "cell_type": "code",
   "execution_count": null,
   "metadata": {
    "ExecuteTime": {
     "end_time": "2017-11-12T16:45:15.371729+02:00",
     "start_time": "2017-11-12T16:45:10.447890"
    },
    "collapsed": true,
    "run_control": {
     "frozen": false,
     "read_only": false
    }
   },
   "outputs": [],
   "source": []
  },
  {
   "cell_type": "code",
   "execution_count": 3,
   "metadata": {
    "ExecuteTime": {
     "end_time": "2017-12-02T14:43:57.663909+02:00",
     "start_time": "2017-12-02T14:43:56.373757"
    },
    "run_control": {
     "frozen": false,
     "read_only": false
    }
   },
   "outputs": [
    {
     "name": "stderr",
     "output_type": "stream",
     "text": [
      "/Users/yabebal/anaconda/lib/python2.7/site-packages/matplotlib/__init__.py:1401: UserWarning:  This call to matplotlib.use() has no effect\n",
      "because the backend has already been chosen;\n",
      "matplotlib.use() must be called *before* pylab, matplotlib.pyplot,\n",
      "or matplotlib.backends is imported for the first time.\n",
      "\n",
      "  warnings.warn(_use_error_msg)\n"
     ]
    }
   ],
   "source": [
    "import tensorflow as tf\n",
    "import tfplot\n",
    "tf.InteractiveSession()\n",
    "import IPython.display\n",
    "\n",
    "def execute_plot_op(image):\n",
    "    print (\">>> \" + str(image))\n",
    "    ret = image.eval()\n",
    "    plt.close()\n",
    "\n",
    "    if len(ret.shape) == 3:\n",
    "        # single image\n",
    "        return Image.fromarray(ret)\n",
    "    elif len(ret.shape) == 4:\n",
    "        return [Image.fromarray(r) for r in ret]\n",
    "    else:\n",
    "        raise ValueError(\"Invalid rank : %d\" % len(ret.shape)) \n",
    "        \n",
    "def execute_and_extract_image_summary(summary_op):\n",
    "    from cStringIO import StringIO\n",
    "    # evaluate and extract PNG from the summary protobuf\n",
    "    s = tf.Summary()\n",
    "    s.ParseFromString(summary_op.eval())\n",
    "    ims = []\n",
    "    for i in range(len(s.value)):\n",
    "        png_string = s.value[i].image.encoded_image_string\n",
    "        im = Image.open(StringIO(png_string))\n",
    "        ims.append(im)\n",
    "    plt.close()\n",
    "    if len(ims) == 1: return ims[0]\n",
    "    else: return ims\n",
    "    \n",
    "# the plot function can have additional kwargs for providing configuration points\n",
    "def overlay_attention(attention, image,\n",
    "                      alpha=0.5, cmap='jet'):\n",
    "    fig = tfplot.Figure(figsize=(4, 4))\n",
    "    ax = fig.add_subplot(1, 1, 1)\n",
    "    ax.axis('off')\n",
    "    fig.subplots_adjust(0, 0, 1, 1)  # get rid of margins\n",
    "    \n",
    "    H, W = attention.shape\n",
    "    ax.imshow(image, extent=[0, H, 0, W])\n",
    "    ax.imshow(attention, cmap=cmap,\n",
    "              alpha=alpha, extent=[0, H, 0, W])\n",
    "    return fig\n",
    "\n",
    "def figure_attention(attention):\n",
    "    fig, ax = tfplot.subplots(figsize=(4, 3))\n",
    "    im = ax.imshow(attention, cmap='jet')\n",
    "    fig.colorbar(im)\n",
    "    return fig\n",
    "\n",
    "\n",
    "def draw_mask_on_image_array(image, mask, color='red', alpha=0.7):\n",
    "    \"\"\"Draws mask on an image.\n",
    "\n",
    "    Args:\n",
    "      image: uint8 numpy array with shape (img_height, img_height, 3)\n",
    "      mask: a float numpy array of shape (img_height, img_height) with\n",
    "        values between 0 and 1\n",
    "      color: color to draw the keypoints with. Default is red.\n",
    "      alpha: transparency value between 0 and 1. (default: 0.7)\n",
    "\n",
    "    Raises:\n",
    "      ValueError: On incorrect data type for image or masks.\n",
    "    \"\"\"\n",
    "    new_image=image\n",
    "    if image.dtype != np.uint8:\n",
    "        #raise ValueError('`image` not of type np.uint8')\n",
    "        new_image = np.uint8(255*image)\n",
    "        \n",
    "    new_mask=mask[...]\n",
    "    if mask.dtype != np.float32:\n",
    "        new_mask=mask.astype(np.float32)/mask.max()\n",
    "        if len(mask.shape)==3: \n",
    "            new_mask=mask[...,0]\n",
    "            \n",
    "        #raise ValueError('`mask` not of type np.float32')\n",
    "    \n",
    "    if np.any(np.logical_or(new_mask > 1.0, new_mask < 0.0)):\n",
    "        val=1\n",
    "        #raise ValueError('`mask` elements should be in [0, 1]')\n",
    "        \n",
    "    rgb = ImageColor.getrgb(color)\n",
    "    pil_image = Image.fromarray(new_image)\n",
    "\n",
    "    solid_color = np.expand_dims(\n",
    "        np.ones_like(new_mask), axis=2) * np.reshape(list(rgb), [1, 1, 3])\n",
    "    pil_solid_color = Image.fromarray(np.uint8(solid_color)).convert('RGBA')\n",
    "    pil_mask = Image.fromarray(np.uint8(255.0*alpha * new_mask)).convert('L')\n",
    "    pil_image = Image.composite(pil_solid_color, pil_image, pil_mask)\n",
    "    np.copyto(image, np.array(pil_image.convert('RGB')))  \n",
    "    \n",
    "    return  pil_image\n",
    "    \n",
    "def save_image_array_as_png(image, output_path):\n",
    "    \"\"\"Saves an image (represented as a numpy array) to PNG.\n",
    "\n",
    "    Args:\n",
    "      image: a numpy array with shape [height, width, 3].\n",
    "      output_path: path to which image should be written.\n",
    "    \"\"\"\n",
    "    image_pil = Image.fromarray(np.uint8(image)).convert('RGB')\n",
    "    with tf.gfile.Open(output_path, 'w') as fid:\n",
    "        image_pil.save(fid, 'PNG')\n",
    "        \n",
    "def show_image(img,label=None,tit='',figsize=None,ax=None):\n",
    "    if img.shape[0]>100:\n",
    "        w=15\n",
    "    else:\n",
    "        w=6   \n",
    "    if figsize is None:\n",
    "        figsize=(w,w)\n",
    "        \n",
    "    if ax is None:\n",
    "        figure=plt.figure(figsize=figsize)\n",
    "        plt.gca()\n",
    "    else:\n",
    "        plt.sca(ax)\n",
    "    \n",
    "    if not label is None:\n",
    "        plt.imshow(draw_mask_on_image_array(img,label),aspect='auto', interpolation='nearest')\n",
    "    else:\n",
    "        plt.imshow(img,aspect='auto', interpolation='nearest')\n",
    "    plt.title(tit)\n",
    "    plt.axis('off')\n",
    "    plt.colorbar()"
   ]
  },
  {
   "cell_type": "code",
   "execution_count": null,
   "metadata": {
    "ExecuteTime": {
     "end_time": "2017-11-12T17:50:57.288177+02:00",
     "start_time": "2017-11-12T17:50:57.141185"
    },
    "collapsed": true,
    "run_control": {
     "frozen": false,
     "read_only": false
    }
   },
   "outputs": [],
   "source": []
  },
  {
   "cell_type": "code",
   "execution_count": 4,
   "metadata": {
    "ExecuteTime": {
     "end_time": "2017-12-02T14:44:13.836744+02:00",
     "start_time": "2017-12-02T14:44:13.797256"
    },
    "collapsed": true,
    "run_control": {
     "frozen": false,
     "read_only": false
    }
   },
   "outputs": [],
   "source": [
    "name='22979005'\n",
    "img_folder='onitemi/data/mbd/training/'\n",
    "label_folder='onitemi/data/mbd/training/building_bitmaps/'\n",
    "\n",
    "img_valid_folder='onitemi/data/mbd/validation/'\n",
    "label_valid_folder='onitemi/data/mbd/validation/building_bitmaps/'\n",
    "\n",
    "img_test_folder='onitemi/data/mbd/test/'\n",
    "label_test_folder='onitemi/data/mbd/test/building_bitmaps/'\n",
    "\n",
    "patterns={'img':name+'*.tiff','label':name+'*.tif'}"
   ]
  },
  {
   "cell_type": "code",
   "execution_count": 6,
   "metadata": {
    "ExecuteTime": {
     "end_time": "2017-11-12T23:49:04.192547+02:00",
     "start_time": "2017-11-12T23:49:04.142006"
    },
    "collapsed": true,
    "run_control": {
     "frozen": false,
     "read_only": false
    }
   },
   "outputs": [],
   "source": [
    "# from dnn4sdg.datagenerator import ImageDataGenerator as SampleCutOut\n",
    "# usa=SampleCutOut(img_folder,label_folder,tol=10,stride=45,patterns=patterns)\n",
    "# patches, labels=usa()\n",
    "# print(len(patches),len(labels))\n",
    "# show_image(patches[0],labels[0])"
   ]
  },
  {
   "cell_type": "code",
   "execution_count": 7,
   "metadata": {
    "ExecuteTime": {
     "end_time": "2017-11-12T23:49:06.375058+02:00",
     "start_time": "2017-11-12T23:49:06.287426"
    },
    "run_control": {
     "frozen": false,
     "read_only": false
    }
   },
   "outputs": [
    {
     "ename": "NameError",
     "evalue": "name 'fname_data' is not defined",
     "output_type": "error",
     "traceback": [
      "\u001b[0;31m---------------------------------------------------------------------------\u001b[0m",
      "\u001b[0;31mNameError\u001b[0m                                 Traceback (most recent call last)",
      "\u001b[0;32m<ipython-input-7-3c6aaa974582>\u001b[0m in \u001b[0;36m<module>\u001b[0;34m()\u001b[0m\n\u001b[0;32m----> 1\u001b[0;31m \u001b[0mfname_data\u001b[0m\u001b[0;34m\u001b[0m\u001b[0m\n\u001b[0m",
      "\u001b[0;31mNameError\u001b[0m: name 'fname_data' is not defined"
     ]
    }
   ],
   "source": [
    "fname_data"
   ]
  },
  {
   "cell_type": "code",
   "execution_count": 8,
   "metadata": {
    "ExecuteTime": {
     "end_time": "2017-11-12T23:49:07.531714+02:00",
     "start_time": "2017-11-12T23:49:07.478933"
    },
    "collapsed": true,
    "run_control": {
     "frozen": false,
     "read_only": false
    }
   },
   "outputs": [],
   "source": [
    "# # the input to plot_op\n",
    "# #image_tensor = tf.constant(sample_image, name='image')\n",
    "\n",
    "# train_tensor=tf.convert_to_tensor(patches,name='image')\n",
    "# mask_tensor=tf.convert_to_tensor(labels,name='mask')\n",
    "\n",
    "# # plot_many()\n",
    "# #plot_op = tfplot.plot_many(overlay_attention, [train_tensor, mask_tensor])\n",
    "# plot_op=tfplot.plot(overlay_attention, [train_tensor, mask_tensor])\n",
    "# #plot_op=tfplot.plot(figure_attention, [train_tensor])\n",
    "# #execute_plot_op(plot_op)\n",
    "\n",
    "# # plot_many()\n",
    "# train_tensor=tf.stack([tf.convert_to_tensor(x) for x in patches],name='image')\n",
    "# mask_tensor=tf.stack([tf.convert_to_tensor(x) for x in labels] ,name='mask')\n",
    "\n",
    "# plot_op = tfplot.plot(overlay_attention, [train_tensor[0,...], mask_tensor[0,...]])\n",
    "# images = execute_plot_op(plot_op)\n",
    "# plot_op.eval()\n",
    "\n",
    "# # just see the three images\n",
    "# _, axes = plt.subplots(1, 3, figsize=(10, 3))\n",
    "# for i in range(3):\n",
    "#     axes[i].set_title(\"%d : [%dx%d]\" % (i, images[i].height, images[i].width))\n",
    "#     axes[i].imshow(images[i])\n",
    "# plt.show()"
   ]
  },
  {
   "cell_type": "code",
   "execution_count": 8,
   "metadata": {
    "ExecuteTime": {
     "end_time": "2017-10-06T00:58:00.901110+02:00",
     "start_time": "2017-10-06T00:58:00.863548"
    },
    "code_folding": [],
    "collapsed": true,
    "run_control": {
     "frozen": false,
     "read_only": false
    }
   },
   "outputs": [],
   "source": [
    "# TF_UNET"
   ]
  },
  {
   "cell_type": "code",
   "execution_count": 5,
   "metadata": {
    "ExecuteTime": {
     "end_time": "2017-12-02T14:44:28.348751+02:00",
     "start_time": "2017-12-02T14:44:19.347656"
    },
    "run_control": {
     "frozen": false,
     "read_only": false
    }
   },
   "outputs": [
    {
     "name": "stderr",
     "output_type": "stream",
     "text": [
      "Using Theano backend.\n"
     ]
    },
    {
     "name": "stdout",
     "output_type": "stream",
     "text": [
      "Couldn't import dot_parser, loading of dot files will not be possible.\n",
      "('keras: ', '2.0.8')\n",
      "('tensorflow: ', '1.3.0')\n",
      "('filelist,tifffolder', False, True)\n",
      "calling init_tiff_folder\n",
      "('******* n_label, n_channel', 3, 2)\n",
      "('getting file list: ', 'onitemi/data/mbd/training/*.tiff')\n",
      "('getting file list: ', 'onitemi/data/mbd/training/building_bitmaps/*.tif')\n",
      "('filelist,tifffolder', False, True)\n",
      "calling init_tiff_folder\n",
      "('******* n_label, n_channel', 3, 2)\n",
      "('getting file list: ', 'onitemi/data/mbd/validation/*.tiff')\n",
      "('getting file list: ', 'onitemi/data/mbd/validation/building_bitmaps/*.tif')\n"
     ]
    }
   ],
   "source": [
    "from dnn4sdg.datagenerator import * \n",
    "from tf_unet import unet\n",
    "\n",
    "train_data_provider = ImageDataGenerator(img_folder,label_folder,tol=3,nlabel=2)\n",
    "test_data_provider = ImageDataGenerator(img_valid_folder,label_valid_folder,stride=10,tol=3,nlabel=2)"
   ]
  },
  {
   "cell_type": "code",
   "execution_count": 38,
   "metadata": {
    "ExecuteTime": {
     "end_time": "2017-12-02T15:25:26.582794+02:00",
     "start_time": "2017-12-02T15:25:26.311485"
    },
    "collapsed": true,
    "run_control": {
     "frozen": false,
     "read_only": false
    }
   },
   "outputs": [],
   "source": [
    "class simple_tfcnn_model(object):\n",
    "            \n",
    "    def __init__(self,sess,data_provider,\n",
    "                 learning_rate=0.01,loss='mse',\n",
    "                 op='rms',padding='same',model='basic'):\n",
    "        \n",
    "        #get size of image\n",
    "        self.loss=loss\n",
    "        self.op=op\n",
    "        self.data_provider=data_provider\n",
    "        self.learning_rate=learning_rate\n",
    "        self.padding=padding\n",
    "        \n",
    "        img,lbl=self.data_provider(1)\n",
    "        self.lw=img.shape[1]\n",
    "        print('lw size of image',self.lw,img.shape)\n",
    "        \n",
    "        #if model == 'basic':    \n",
    "        x=self._basic_model()\n",
    "        self.init=x[0]\n",
    "        self.cost=x[1]\n",
    "        self.optimizer=x[2] \n",
    "        self.pred=x[3]\n",
    "        self.probabilities=x[4]\n",
    "        \n",
    "        self.sess=sess\n",
    "        self.sess.run(self.init)\n",
    "        \n",
    "    def _basic_model(self):\n",
    "        self.x_in = tf.placeholder(tf.float32,[None,self.lw,self.lw,3])\n",
    "        self.y_true = tf.placeholder(tf.float32,[None,self.lw,self.lw,1])\n",
    "\n",
    "        x = tf.layers.conv2d(self.x_in,filters=12,kernel_size=3,strides=(1, 1),padding=self.padding,\n",
    "            activation=tf.nn.relu)\n",
    "        x = tf.layers.dropout(x, 0.5)\n",
    "        x = tf.layers.conv2d(x,filters=12,kernel_size=3,strides=(1, 1),padding=self.padding,\n",
    "            activation=tf.nn.relu)\n",
    "        x = tf.layers.dropout(x, 0.5)\n",
    "        x = tf.layers.conv2d(x,filters=12,kernel_size=3,strides=(1, 1),padding=self.padding,\n",
    "            activation=tf.nn.relu)\n",
    "\n",
    "        x = tf.layers.dropout(x, 0.5)\n",
    "\n",
    "        pred = tf.layers.conv2d(x,filters=1,kernel_size=1,strides=(1, 1),padding=self.padding,\n",
    "            activation=tf.nn.relu)\n",
    "        \n",
    "        pred_nclc = tf.layers.conv2d(x,filters=2,kernel_size=1,strides=(1, 1),padding=self.padding,\n",
    "            activation=tf.nn.relu)        \n",
    "        \n",
    "\n",
    "        probabilities = tf.nn.softmax(pred_nclc)        \n",
    "        \n",
    "        #pred=tf.nn.sigmoid(pred_val,name='sigmoid')\n",
    "        if self.loss=='mse':\n",
    "            cost = tf.losses.mean_squared_error(self.y_true,pred)\n",
    "        elif self.loss=='sce':\n",
    "            cost = tf.losses.softmax_cross_entropy(self.y_true,pred)\n",
    "        else:\n",
    "            cost = tf.losses.softmax_cross_entropy(self.y_true,pred)\n",
    "            \n",
    "        if self.op=='rms':   \n",
    "            optimizer = tf.train.RMSPropOptimizer(self.learning_rate).minimize(cost)\n",
    "        elif self.op=='adam':\n",
    "            optimizer = tf.train.AdamOptimizer(self.learning_rate).minimize(cost)\n",
    "        else:\n",
    "            optimizer = tf.train.AdamOptimizer(self.learning_rate).minimize(cost)\n",
    "\n",
    "        init = tf.global_variables_initializer()\n",
    "        return (init, cost, optimizer, pred,probabilities)\n",
    "\n",
    "\n",
    "    def train_tfmodel(self,nepoch=10,nbatch=3):\n",
    "        dir(self)\n",
    "        for epoch in range(nepoch):\n",
    "            self.data_provider.reset_path()\n",
    "            # Loop over all batches\n",
    "            cc = 0\n",
    "            ii = 0\n",
    "            try:\n",
    "                while True: \n",
    "                    x_b,y_b = self.data_provider(nbatch)   \n",
    "                    # Run optimization op (backprop) and cost op (to get loss value)\n",
    "                    _, c = self.sess.run([self.optimizer, self.cost], feed_dict={self.x_in: x_b, self.y_true: y_b})\n",
    "                    cc += c\n",
    "                    ii += 1\n",
    "            except:\n",
    "                print('Epoch:{:d}, #sample:{:d}, cost= {:6.2f}'.format(epoch,ii,cc/max(1,ii)) )\n",
    "                pass #finished\n",
    "            # Display logs per epoch step\n",
    "            \n",
    "\n",
    "    def predict_from_tfmodel(self,data_provider,nbatch=1,plot=True,fout='prediction.jpg'):\n",
    "        xs,ys = data_provider(nbatch)\n",
    "\n",
    "        yt_pred,yt_prob = self.sess.run([self.pred,self.probabilities], feed_dict={self.x_in: xs})\n",
    "        # print('yt_pred: ', yt_pred)\n",
    "        #print('yt_pred shape: ', yt_pred.shape)\n",
    "        if plot:\n",
    "            gs = gridspec.GridSpec(1, 3)\n",
    "            plt.figure(figsize=(15,5)) \n",
    "            ax1 = plt.subplot(gs[0, 0])\n",
    "            ax2 = plt.subplot(gs[0, 1])\n",
    "            ax3 = plt.subplot(gs[0, 2])\n",
    "            ax1.set_xticks([])\n",
    "            ax1.set_yticks([])\n",
    "            ax2.set_xticks([])\n",
    "            ax2.set_yticks([])\n",
    "            ax3.set_xticks([])\n",
    "            ax3.set_yticks([])\n",
    "            ax1.set_title('Data')\n",
    "            ax2.set_title('Prediction')\n",
    "            ax3.set_title('True buildings')\n",
    "            ax1.imshow(xs[0,:,:,:])    \n",
    "            ax2.imshow(yt_pred[0,:,:,0])\n",
    "            ax3.imshow(ys[0,:,:,0])\n",
    "            #plt.subplots_adjust(wspace=0,bottom=0.02, top=0.96, left=0.02, right=0.98)\n",
    "            plt.savefig(fout)\n",
    "            \n",
    "def predict_from_tfmodel(cls,xs,ys,nbatch=1,plot=True,fout='prediction.jpg'):\n",
    "    \n",
    "\n",
    "    #yt_pred = cls.sess.run(cls.pred, feed_dict={cls.x_in: xs})\n",
    "    yt_pred,yt_prob = cls.sess.run([cls.pred,cls.probabilities], feed_dict={cls.x_in: xs})\n",
    "    # print('yt_pred: ', yt_pred)\n",
    "    #print('yt_pred shape: ', yt_pred.shape)\n",
    "    if plot:\n",
    "        gs = gridspec.GridSpec(1, 3)\n",
    "        plt.figure(figsize=(15,5)) \n",
    "        ax1 = plt.subplot(gs[0, 0])\n",
    "        ax2 = plt.subplot(gs[0, 1])\n",
    "        ax3 = plt.subplot(gs[0, 2])\n",
    "        ax1.set_xticks([])\n",
    "        ax1.set_yticks([])\n",
    "        ax2.set_xticks([])\n",
    "        ax2.set_yticks([])\n",
    "        ax3.set_xticks([])\n",
    "        ax3.set_yticks([])\n",
    "        ax1.set_title('True buildings')\n",
    "        ax2.set_title('Prediction')\n",
    "        ax3.set_title('Probabilities')\n",
    "        ax1.imshow(xs[0,:,:,:]) \n",
    "        print('yt pred',yt_pred[0,:,:,0].min(),yt_pred[0,:,:,0].max())\n",
    "        ax2.imshow(yt_pred[0,:,:,0]>0.2)\n",
    "        ax3.imshow(ys[0,:,:,0])\n",
    "        #plt.subplots_adjust(wspace=0,bottom=0.02, top=0.96, left=0.02, right=0.98)\n",
    "        plt.savefig(fout)\n",
    "        \n",
    "        return yt_pred,yt_prob"
   ]
  },
  {
   "cell_type": "code",
   "execution_count": 7,
   "metadata": {
    "ExecuteTime": {
     "end_time": "2017-12-02T14:51:50.307124+02:00",
     "start_time": "2017-12-02T14:48:36.128684"
    },
    "run_control": {
     "frozen": false,
     "read_only": false
    }
   },
   "outputs": [
    {
     "name": "stdout",
     "output_type": "stream",
     "text": [
      "('filelist,tifffolder', False, True)\n",
      "calling init_tiff_folder\n",
      "('******* n_label, n_channel', 3, 1)\n",
      "('getting file list: ', 'onitemi/data/mbd/training/*.tiff')\n",
      "('getting file list: ', 'onitemi/data/mbd/training/building_bitmaps/*.tif')\n",
      "('filelist,tifffolder', False, True)\n",
      "calling init_tiff_folder\n",
      "('******* n_label, n_channel', 3, 1)\n",
      "('getting file list: ', 'onitemi/data/mbd/validation/*.tiff')\n",
      "('getting file list: ', 'onitemi/data/mbd/validation/building_bitmaps/*.tif')\n",
      "('lw size of image', 64, (1, 64, 64, 3))\n",
      "('getting file list: ', 'onitemi/data/mbd/training/*.tiff')\n",
      "('getting file list: ', 'onitemi/data/mbd/training/building_bitmaps/*.tif')\n",
      "Epoch:0, #sample:136, cost=   0.22\n",
      "('getting file list: ', 'onitemi/data/mbd/training/*.tiff')\n",
      "('getting file list: ', 'onitemi/data/mbd/training/building_bitmaps/*.tif')\n",
      "Epoch:1, #sample:136, cost=   0.23\n",
      "('getting file list: ', 'onitemi/data/mbd/training/*.tiff')\n",
      "('getting file list: ', 'onitemi/data/mbd/training/building_bitmaps/*.tif')\n",
      "Epoch:2, #sample:136, cost=   0.22\n",
      "('getting file list: ', 'onitemi/data/mbd/training/*.tiff')\n",
      "('getting file list: ', 'onitemi/data/mbd/training/building_bitmaps/*.tif')\n",
      "Epoch:3, #sample:136, cost=   0.21\n",
      "('getting file list: ', 'onitemi/data/mbd/training/*.tiff')\n",
      "('getting file list: ', 'onitemi/data/mbd/training/building_bitmaps/*.tif')\n",
      "Epoch:4, #sample:136, cost=   0.22\n",
      "('getting file list: ', 'onitemi/data/mbd/training/*.tiff')\n",
      "('getting file list: ', 'onitemi/data/mbd/training/building_bitmaps/*.tif')\n",
      "Epoch:5, #sample:136, cost=   0.23\n",
      "('getting file list: ', 'onitemi/data/mbd/training/*.tiff')\n",
      "('getting file list: ', 'onitemi/data/mbd/training/building_bitmaps/*.tif')\n",
      "Epoch:6, #sample:136, cost=   0.21\n",
      "('getting file list: ', 'onitemi/data/mbd/training/*.tiff')\n",
      "('getting file list: ', 'onitemi/data/mbd/training/building_bitmaps/*.tif')\n",
      "Epoch:7, #sample:136, cost=   0.20\n",
      "('getting file list: ', 'onitemi/data/mbd/training/*.tiff')\n",
      "('getting file list: ', 'onitemi/data/mbd/training/building_bitmaps/*.tif')\n",
      "Epoch:8, #sample:136, cost=   0.20\n",
      "('getting file list: ', 'onitemi/data/mbd/training/*.tiff')\n",
      "('getting file list: ', 'onitemi/data/mbd/training/building_bitmaps/*.tif')\n",
      "Epoch:9, #sample:136, cost=   0.19\n"
     ]
    }
   ],
   "source": [
    "\n",
    "train_data_provider = ImageDataGenerator(img_folder,label_folder,stride=32,tol=10,nlabel=1)\n",
    "test_data_provider = ImageDataGenerator(img_valid_folder,label_valid_folder,stride=10,tol=3,nlabel=1)\n",
    "\n",
    "sess=tf.InteractiveSession()\n",
    "simple_model=simple_tfcnn_model(sess,train_data_provider)\n",
    "simple_model.train_tfmodel(nbatch=20,nepoch=10) "
   ]
  },
  {
   "cell_type": "code",
   "execution_count": 45,
   "metadata": {
    "ExecuteTime": {
     "end_time": "2017-12-02T15:35:07.468949+02:00",
     "start_time": "2017-12-02T15:35:07.095874"
    },
    "run_control": {
     "frozen": false,
     "read_only": false
    }
   },
   "outputs": [
    {
     "name": "stdout",
     "output_type": "stream",
     "text": [
      "('yt pred', 0.0, 1.0458658)\n",
      "('pred_shape,prob_shape', (1, 64, 64, 1), (1, 64, 64, 2))\n",
      "('max', 1.0458658, 0.0)\n",
      "('max', 0.86484081, 0.13515919)\n"
     ]
    },
    {
     "data": {
      "image/png": "[encoded data removed]",
      "text/plain": [
       "<matplotlib.figure.Figure at 0x135783850>"
      ]
     },
     "metadata": {},
     "output_type": "display_data"
    }
   ],
   "source": [
    "xs,ys = test_data_provider(1)\n",
    "yt_pred,yt_prob=predict_from_tfmodel(simple_model,xs,ys,nbatch=1,plot=True,fout='prediction.jpg')\n",
    "print('pred_shape,prob_shape',yt_pred.shape,yt_prob.shape)\n",
    "print('max',yt_pred.max(),yt_pred.min())\n",
    "print('max',yt_prob.max(),yt_prob.min())"
   ]
  },
  {
   "cell_type": "markdown",
   "metadata": {
    "run_control": {
     "frozen": false,
     "read_only": false
    }
   },
   "source": [
    "# Applying Conditional Random Field (CRF) post processing\n"
   ]
  },
  {
   "cell_type": "code",
   "execution_count": null,
   "metadata": {
    "ExecuteTime": {
     "end_time": "2017-12-02T15:03:26.937579+02:00",
     "start_time": "2017-12-02T15:03:26.884187"
    },
    "collapsed": true,
    "run_control": {
     "frozen": false,
     "read_only": false
    }
   },
   "outputs": [],
   "source": []
  },
  {
   "cell_type": "code",
   "execution_count": 46,
   "metadata": {
    "ExecuteTime": {
     "end_time": "2017-12-02T15:35:19.698036+02:00",
     "start_time": "2017-12-02T15:35:18.905686"
    },
    "run_control": {
     "frozen": false,
     "read_only": false
    }
   },
   "outputs": [
    {
     "name": "stdout",
     "output_type": "stream",
     "text": [
      "('labels.shape', (64, 64))\n",
      "Using 2D specialized functions\n",
      "('Unary shape:', (2, 4096))\n",
      "('unary0 min max', 0.35667494, 1.2039728)\n",
      "('res min max, shape', 0, 1, (64, 64))\n",
      "KL-divergence at 0: -27762.6193017\n",
      "KL-divergence at 1: -38965.3229766\n",
      "KL-divergence at 2: -42018.4864228\n",
      "KL-divergence at 3: -42567.4540509\n",
      "KL-divergence at 4: -42930.4436993\n"
     ]
    },
    {
     "data": {
      "image/png": "[encoded data removed]",
      "text/plain": [
       "<matplotlib.figure.Figure at 0x12df00190>"
      ]
     },
     "metadata": {},
     "output_type": "display_data"
    }
   ],
   "source": [
    "import pydensecrf.densecrf as dcrf\n",
    "from skimage.segmentation import relabel_sequential\n",
    "from pydensecrf.utils import compute_unary, create_pairwise_bilateral, \\\n",
    "    create_pairwise_gaussian, unary_from_softmax, unary_from_labels\n",
    "    \n",
    "\n",
    "img=xs[0,:,:,:] \n",
    "\n",
    "img=xs[0,:,:,:]-xs.min()\n",
    "img=255*img\n",
    "img=img.astype('uint8')\n",
    "\n",
    "\n",
    "n_labels = 2  # number of labels\n",
    "gt_prob = 0.1\n",
    "\n",
    "is_softmax=False\n",
    "\n",
    "if is_softmax:\n",
    "    n_labels = 2\n",
    "    zero_unsure = True\n",
    "    scale=None\n",
    "    clip=1e-5\n",
    "    labels=yt_prob[0,...,::-1].transpose((2,0,1))\n",
    "else:\n",
    "    zero_unsure = False\n",
    "    labels=yt_pred[0,...,0]>0.2\n",
    "    \n",
    "out_shape=labels.shape\n",
    "\n",
    "print('labels.shape',labels.shape)\n",
    "    \n",
    "###########################\n",
    "### Setup the CRF model ###\n",
    "###########################\n",
    "#use_2d = False\n",
    "use_2d = True\n",
    "if use_2d:\n",
    "    print(\"Using 2D specialized functions\")\n",
    "\n",
    "    # Example using the DenseCRF2D code\n",
    "    d = dcrf.DenseCRF2D(img.shape[1], img.shape[0], n_labels)\n",
    "\n",
    "    # get unary potentials (neg log probability)\n",
    "    if is_softmax:\n",
    "        #unary_from_softmax(sm, scale=None, clip=1e-5)\n",
    "        U = unary_from_softmax(labels, scale=scale, clip=scale)\n",
    "        # The inputs should be C-continious -- we are using Cython wrapper\n",
    "        U = np.ascontiguousarray(U)  \n",
    "        #U=U.reshape(n_labels,img.shape[1]*img.shape[0])\n",
    "    else:\n",
    "        U = unary_from_labels(labels, n_labels, gt_prob=0.7, \n",
    "                              zero_unsure=zero_unsure)\n",
    "        \n",
    "    print('Unary shape:',U.shape)\n",
    "    d.setUnaryEnergy(U)\n",
    "\n",
    "    if is_softmax:\n",
    "        # This adds the color-independent term, features are the locations only.\n",
    "        d.addPairwiseGaussian(sxy=(10, 10), compat=3, kernel=dcrf.DIAG_KERNEL,\n",
    "                              normalization=dcrf.NORMALIZE_SYMMETRIC)\n",
    "\n",
    "        # This adds the color-dependent term, i.e. features are (x,y,r,g,b).\n",
    "        d.addPairwiseBilateral(sxy=(50, 50), srgb=(20, 20, 20), rgbim=img,\n",
    "                               compat=10,\n",
    "                               kernel=dcrf.DIAG_KERNEL,\n",
    "                               normalization=dcrf.NORMALIZE_SYMMETRIC)\n",
    "    else:        \n",
    "        # This adds the color-independent term, features are the locations only.\n",
    "        d.addPairwiseGaussian(sxy=(3, 3), compat=3, kernel=dcrf.DIAG_KERNEL,\n",
    "                              normalization=dcrf.NORMALIZE_SYMMETRIC)\n",
    "\n",
    "        # This adds the color-dependent term, i.e. features are (x,y,r,g,b).\n",
    "        d.addPairwiseBilateral(sxy=(80, 80), srgb=(13, 13, 13), rgbim=img,\n",
    "                               compat=10,\n",
    "                               kernel=dcrf.DIAG_KERNEL,\n",
    "                               normalization=dcrf.NORMALIZE_SYMMETRIC)\n",
    "else:\n",
    "    print(\"Using generic 2D functions\")\n",
    "\n",
    "    # Example using the DenseCRF class and the util functions\n",
    "    d = dcrf.DenseCRF(img.shape[1] * img.shape[0], n_labels)\n",
    "\n",
    "    # get unary potentials (neg log probability)\n",
    "    if is_softmax:\n",
    "        #unary_from_softmax(sm, scale=None, clip=1e-5)\n",
    "        U = unary_from_softmax(labels, scale=scale, clip=scale)\n",
    "        # The inputs should be C-continious -- we are using Cython wrapper\n",
    "        U = np.ascontiguousarray(U)  \n",
    "    else:\n",
    "        U = unary_from_labels(labels, n_labels, gt_prob=0.7, \n",
    "                              zero_unsure=zero_unsure)\n",
    "    d.setUnaryEnergy(U)\n",
    "    \n",
    "    print('Unary shape:',U.shape,out_shape)\n",
    "    \n",
    "    if is_softmax:\n",
    "        # This potential penalizes small pieces of segmentation that are\n",
    "        # spatially isolated -- enforces more spatially consistent segmentations\n",
    "        feats = create_pairwise_gaussian(sdims=(10, 10), shape=img.shape[:2])\n",
    "        d.addPairwiseEnergy(feats, compat=3,\n",
    "                            kernel=dcrf.DIAG_KERNEL,\n",
    "                            normalization=dcrf.NORMALIZE_SYMMETRIC)\n",
    "\n",
    "        # This creates the color-dependent features --\n",
    "        # because the segmentation that we get from CNN are too coarse\n",
    "        # and we can use local color features to refine them\n",
    "        feats = create_pairwise_bilateral(sdims=(50, 50), schan=(20, 20, 20),\n",
    "                                           img=img, chdim=2)\n",
    "        d.addPairwiseEnergy(feats, compat=10,\n",
    "                             kernel=dcrf.DIAG_KERNEL,\n",
    "                             normalization=dcrf.NORMALIZE_SYMMETRIC)\n",
    "    else:\n",
    "        # This potential penalizes small pieces of segmentation that are\n",
    "        # spatially isolated -- enforces more spatially consistent segmentations\n",
    "        feats = create_pairwise_gaussian(sdims=(3, 3), shape=(img.shape[1], img.shape[0]))\n",
    "        d.addPairwiseEnergy(feats, compat=3,\n",
    "                            kernel=dcrf.DIAG_KERNEL,\n",
    "                            normalization=dcrf.NORMALIZE_SYMMETRIC)\n",
    "\n",
    "        # This creates the color-dependent features --\n",
    "        # because the segmentation that we get from CNN are too coarse\n",
    "        # and we can use local color features to refine them\n",
    "        feats = create_pairwise_bilateral(sdims=(80, 80), schan=(13, 13, 13),\n",
    "                                          img=img, chdim=2)\n",
    "        d.addPairwiseEnergy(feats, compat=10,\n",
    "                            kernel=dcrf.DIAG_KERNEL,\n",
    "                            normalization=dcrf.NORMALIZE_SYMMETRIC)\n",
    "\n",
    "\n",
    "print('unary0 min max',U[0,:].min(),U[0,:].max())\n",
    "####################################\n",
    "### Do inference and compute MAP ###\n",
    "####################################\n",
    "\n",
    "# Run five inference steps.\n",
    "Q = d.inference(5)\n",
    "\n",
    "# Find out the most probable class for each pixel.\n",
    "res = np.argmax(Q, axis=0).reshape((img.shape[0:2]))\n",
    "print('res min max, shape',res.min(),res.max(),res.shape)\n",
    "\n",
    "# Convert the MAP (labels) back to the corresponding colors and save the image.\n",
    "# Note that there is no \"unknown\" here anymore, no matter what we had at first.\n",
    "#MAP = colorize[MAP,:]\n",
    "#mwrite(fn_output, MAP.reshape(img.shape))\n",
    "\n",
    "# Just randomly manually run inference iterations\n",
    "Q, tmp1, tmp2 = d.startInference()\n",
    "for i in range(5):\n",
    "    print(\"KL-divergence at {}: {}\".format(i, d.klDivergence(Q)))\n",
    "    d.stepInference(Q, tmp1, tmp2)\n",
    "\n",
    "\n",
    "\n",
    "## Do the inference\n",
    "#res = np.argmax(d.inference(1), axis=0).astype('float32')\n",
    "\n",
    "\n",
    "\n",
    "cmap = plt.get_cmap('bwr')\n",
    "\n",
    "gs = gridspec.GridSpec(1, 4)\n",
    "plt.figure(figsize=(20,5)) \n",
    "ax1 = plt.subplot(gs[0, 0])\n",
    "ax2 = plt.subplot(gs[0, 1])\n",
    "ax3 = plt.subplot(gs[0, 2])\n",
    "ax4 = plt.subplot(gs[0, 3])\n",
    "#\n",
    "ax1.imshow(img, cmap=cmap)\n",
    "ax1.set_title('Image')\n",
    "#\n",
    "if len(res.shape)==2:\n",
    "    ax2.imshow(res, cmap=cmap)\n",
    "else:\n",
    "    ax2.imshow(res[0,...], cmap=cmap)\n",
    "ax2.set_title('Segmentation with CRF post-processing')\n",
    "#\n",
    "ax3.imshow(ys[0,...,0], vmax=1.5, vmin=-0.4, cmap=cmap)\n",
    "ax3.set_title('Ground-Truth Annotation')\n",
    "#\n",
    "ax4.imshow(labels, cmap=cmap)\n",
    "ax4.set_title('Prediced Image')\n",
    "#\n",
    "ax1.set_xticks([])\n",
    "ax1.set_yticks([])\n",
    "ax2.set_xticks([])\n",
    "ax2.set_yticks([])\n",
    "ax3.set_xticks([])\n",
    "ax3.set_yticks([])\n",
    "ax4.set_xticks([])\n",
    "ax4.set_yticks([])\n",
    "plt.show()"
   ]
  },
  {
   "cell_type": "code",
   "execution_count": 27,
   "metadata": {
    "ExecuteTime": {
     "end_time": "2017-12-02T15:07:50.396979+02:00",
     "start_time": "2017-12-02T15:07:50.340597"
    },
    "run_control": {
     "frozen": false,
     "read_only": false
    }
   },
   "outputs": [
    {
     "data": {
      "text/plain": [
       "(64, 64)"
      ]
     },
     "execution_count": 27,
     "metadata": {},
     "output_type": "execute_result"
    }
   ],
   "source": [
    "#l=labels.flatten()\n"
   ]
  },
  {
   "cell_type": "code",
   "execution_count": 266,
   "metadata": {
    "ExecuteTime": {
     "end_time": "2017-11-23T07:44:47.708871+02:00",
     "start_time": "2017-11-23T07:44:47.653667"
    },
    "run_control": {
     "frozen": false,
     "read_only": false
    }
   },
   "outputs": [
    {
     "name": "stdout",
     "output_type": "stream",
     "text": [
      "(0.22314355131420971, 1.6094379124341003)\n"
     ]
    }
   ],
   "source": [
    "gt_prob=0.2\n",
    "n_labels=2\n",
    "n_energy = -np.log((1.0 - gt_prob) / (n_labels - 1))\n",
    "p_energy = -np.log(gt_prob)\n",
    "print(n_energy,p_energy)\n",
    "zero_unsure=True\n",
    "labels\n",
    "U = np.full((n_labels, len(l)), n_energy, dtype='float32')\n",
    "U[l - 1 if zero_unsure else l, np.arange(U.shape[1])] = p_energy\n"
   ]
  },
  {
   "cell_type": "code",
   "execution_count": 158,
   "metadata": {
    "ExecuteTime": {
     "end_time": "2017-11-12T19:05:22.828890+02:00",
     "start_time": "2017-11-12T19:05:20.783553"
    },
    "run_control": {
     "frozen": false,
     "read_only": false
    }
   },
   "outputs": [
    {
     "name": "stderr",
     "output_type": "stream",
     "text": [
      "2017-11-12 19:05:20,845 Layers 2, features 64,filter size 3x3,pool size: 2x2\n"
     ]
    },
    {
     "name": "stdout",
     "output_type": "stream",
     "text": [
      "('filelist,tifffolder', False, True)\n",
      "calling init_tiff_folder\n",
      "('******* n_label, n_channel', 3, 2)\n",
      "('getting file list: ', 'onitemi/data/mbd/training/*.tiff')\n",
      "('getting file list: ', 'onitemi/data/mbd/training/building_bitmaps/*.tif')\n",
      "('filelist,tifffolder', False, True)\n",
      "calling init_tiff_folder\n",
      "('******* n_label, n_channel', 3, 2)\n",
      "('getting file list: ', 'onitemi/data/mbd/validation/*.tiff')\n",
      "('getting file list: ', 'onitemi/data/mbd/validation/building_bitmaps/*.tif')\n"
     ]
    }
   ],
   "source": [
    "#inti unet\n",
    "\n",
    "train_data_provider = ImageDataGenerator(img_folder,label_folder,tol=3,nlabel=2)\n",
    "test_data_provider = ImageDataGenerator(img_valid_folder,label_valid_folder,stride=10,tol=3,nlabel=2)\n",
    "\n",
    "net = unet.Unet(channels=train_data_provider.channels, \n",
    "                n_class=train_data_provider.n_class, \n",
    "                layers=2, \n",
    "                features_root=64,\n",
    "                cost= \"dice_coefficient\",\n",
    "                cost_kwargs=dict(regularizer=0.001),\n",
    "                )"
   ]
  },
  {
   "cell_type": "code",
   "execution_count": 59,
   "metadata": {
    "ExecuteTime": {
     "end_time": "2017-11-12T17:34:43.914999+02:00",
     "start_time": "2017-11-12T17:30:48.304870"
    },
    "run_control": {
     "frozen": false,
     "read_only": false
    },
    "scrolled": true
   },
   "outputs": [
    {
     "name": "stderr",
     "output_type": "stream",
     "text": [
      "2017-11-12 17:30:49,181 Removing '/Users/yabebal/My-Works/StudentProjects/Kayode/JediOct17/prediction'\n",
      "2017-11-12 17:30:49,183 Removing '/Users/yabebal/My-Works/StudentProjects/Kayode/JediOct17/unet_building_model'\n",
      "2017-11-12 17:30:49,184 Allocating '/Users/yabebal/My-Works/StudentProjects/Kayode/JediOct17/prediction'\n",
      "2017-11-12 17:30:49,185 Allocating '/Users/yabebal/My-Works/StudentProjects/Kayode/JediOct17/unet_building_model'\n",
      "2017-11-12 17:30:51,109 Verification error= 100.0%, loss= -0.6742\n",
      "2017-11-12 17:30:57,877 Start optimization\n",
      "2017-11-12 17:30:58,143 Iter 0, Minibatch Loss= -0.9145,Training Accuracy= 1.0000, Minibatch error= 0.0%\n",
      "2017-11-12 17:30:58,541 Iter 2, Minibatch Loss= -1.7006,Training Accuracy= 1.0000, Minibatch error= 0.0%\n",
      "2017-11-12 17:30:58,869 Iter 4, Minibatch Loss= -1.7098,Training Accuracy= 1.0000, Minibatch error= 0.0%\n",
      "2017-11-12 17:30:59,224 Iter 6, Minibatch Loss= -1.7091,Training Accuracy= 1.0000, Minibatch error= 0.0%\n",
      "2017-11-12 17:30:59,559 Iter 8, Minibatch Loss= -1.7107,Training Accuracy= 1.0000, Minibatch error= 0.0%\n",
      "2017-11-12 17:30:59,957 Iter 10, Minibatch Loss= -1.7133,Training Accuracy= 1.0000, Minibatch error= 0.0%\n",
      "2017-11-12 17:31:00,309 Iter 12, Minibatch Loss= -1.7148,Training Accuracy= 1.0000, Minibatch error= 0.0%\n",
      "2017-11-12 17:31:00,632 Iter 14, Minibatch Loss= -1.7147,Training Accuracy= 1.0000, Minibatch error= 0.0%\n",
      "2017-11-12 17:31:00,939 Iter 16, Minibatch Loss= -1.7151,Training Accuracy= 1.0000, Minibatch error= 0.0%\n",
      "2017-11-12 17:31:01,233 Iter 18, Minibatch Loss= -1.7154,Training Accuracy= 1.0000, Minibatch error= 0.0%\n",
      "2017-11-12 17:31:01,590 Iter 20, Minibatch Loss= -1.7144,Training Accuracy= 1.0000, Minibatch error= 0.0%\n",
      "2017-11-12 17:31:01,881 Iter 22, Minibatch Loss= -1.7159,Training Accuracy= 1.0000, Minibatch error= 0.0%\n",
      "2017-11-12 17:31:02,184 Iter 24, Minibatch Loss= -1.7164,Training Accuracy= 1.0000, Minibatch error= 0.0%\n",
      "2017-11-12 17:31:02,491 Iter 26, Minibatch Loss= -1.7170,Training Accuracy= 1.0000, Minibatch error= 0.0%\n",
      "2017-11-12 17:31:02,788 Iter 28, Minibatch Loss= -1.7168,Training Accuracy= 1.0000, Minibatch error= 0.0%\n",
      "2017-11-12 17:31:03,119 Iter 30, Minibatch Loss= -1.7174,Training Accuracy= 1.0000, Minibatch error= 0.0%\n",
      "2017-11-12 17:31:03,246 Epoch 0, Average loss: -1.6465,learning rate: 0.2000\n",
      "2017-11-12 17:31:03,491 Verification error= 0.0%, loss= -1.7158\n",
      "2017-11-12 17:31:07,683 Iter 32, Minibatch Loss= -1.7159,Training Accuracy= 1.0000, Minibatch error= 0.0%\n",
      "2017-11-12 17:31:08,012 Iter 34, Minibatch Loss= -1.7172,Training Accuracy= 1.0000, Minibatch error= 0.0%\n",
      "2017-11-12 17:31:08,339 Iter 36, Minibatch Loss= -1.7159,Training Accuracy= 1.0000, Minibatch error= 0.0%\n",
      "2017-11-12 17:31:08,634 Iter 38, Minibatch Loss= -1.7177,Training Accuracy= 1.0000, Minibatch error= 0.0%\n",
      "2017-11-12 17:31:08,934 Iter 40, Minibatch Loss= -1.7178,Training Accuracy= 1.0000, Minibatch error= 0.0%\n",
      "2017-11-12 17:31:09,238 Iter 42, Minibatch Loss= -1.7187,Training Accuracy= 1.0000, Minibatch error= 0.0%\n",
      "2017-11-12 17:31:09,522 Iter 44, Minibatch Loss= -1.7175,Training Accuracy= 1.0000, Minibatch error= 0.0%\n",
      "2017-11-12 17:31:09,808 Iter 46, Minibatch Loss= -1.7190,Training Accuracy= 1.0000, Minibatch error= 0.0%\n",
      "2017-11-12 17:31:10,150 Iter 48, Minibatch Loss= -1.7187,Training Accuracy= 1.0000, Minibatch error= 0.0%\n",
      "2017-11-12 17:31:10,450 Iter 50, Minibatch Loss= -1.7196,Training Accuracy= 1.0000, Minibatch error= 0.0%\n",
      "2017-11-12 17:31:10,757 Iter 52, Minibatch Loss= -1.7193,Training Accuracy= 1.0000, Minibatch error= 0.0%\n",
      "2017-11-12 17:31:11,069 Iter 54, Minibatch Loss= -1.7201,Training Accuracy= 1.0000, Minibatch error= 0.0%\n",
      "2017-11-12 17:31:11,373 Iter 56, Minibatch Loss= -1.7204,Training Accuracy= 1.0000, Minibatch error= 0.0%\n",
      "2017-11-12 17:31:11,739 Iter 58, Minibatch Loss= -1.7198,Training Accuracy= 1.0000, Minibatch error= 0.0%\n",
      "2017-11-12 17:31:12,044 Iter 60, Minibatch Loss= -1.7203,Training Accuracy= 1.0000, Minibatch error= 0.0%\n",
      "2017-11-12 17:31:12,403 Iter 62, Minibatch Loss= -1.7162,Training Accuracy= 1.0000, Minibatch error= 0.0%\n",
      "2017-11-12 17:31:12,571 Epoch 1, Average loss: -1.7181,learning rate: 0.1900\n",
      "2017-11-12 17:31:12,854 Verification error= 0.0%, loss= -1.7199\n",
      "2017-11-12 17:31:17,298 Iter 64, Minibatch Loss= -1.7172,Training Accuracy= 1.0000, Minibatch error= 0.0%\n",
      "2017-11-12 17:31:17,599 Iter 66, Minibatch Loss= -1.7191,Training Accuracy= 1.0000, Minibatch error= 0.0%\n",
      "2017-11-12 17:31:17,912 Iter 68, Minibatch Loss= -1.7187,Training Accuracy= 1.0000, Minibatch error= 0.0%\n",
      "2017-11-12 17:31:18,220 Iter 70, Minibatch Loss= -1.7187,Training Accuracy= 1.0000, Minibatch error= 0.0%\n",
      "2017-11-12 17:31:18,532 Iter 72, Minibatch Loss= -1.7191,Training Accuracy= 1.0000, Minibatch error= 0.0%\n",
      "2017-11-12 17:31:18,836 Iter 74, Minibatch Loss= -1.7167,Training Accuracy= 1.0000, Minibatch error= 0.0%\n",
      "2017-11-12 17:31:19,154 Iter 76, Minibatch Loss= -1.7218,Training Accuracy= 1.0000, Minibatch error= 0.0%\n",
      "2017-11-12 17:31:19,450 Iter 78, Minibatch Loss= -1.7218,Training Accuracy= 1.0000, Minibatch error= 0.0%\n",
      "2017-11-12 17:31:19,748 Iter 80, Minibatch Loss= -1.7185,Training Accuracy= 1.0000, Minibatch error= 0.0%\n",
      "2017-11-12 17:31:20,051 Iter 82, Minibatch Loss= -1.7229,Training Accuracy= 1.0000, Minibatch error= 0.0%\n",
      "2017-11-12 17:31:20,348 Iter 84, Minibatch Loss= -1.7212,Training Accuracy= 1.0000, Minibatch error= 0.0%\n",
      "2017-11-12 17:31:20,707 Iter 86, Minibatch Loss= -1.7216,Training Accuracy= 1.0000, Minibatch error= 0.0%\n",
      "2017-11-12 17:31:20,996 Iter 88, Minibatch Loss= -1.7219,Training Accuracy= 1.0000, Minibatch error= 0.0%\n",
      "2017-11-12 17:31:21,320 Iter 90, Minibatch Loss= -1.7234,Training Accuracy= 1.0000, Minibatch error= 0.0%\n",
      "2017-11-12 17:31:21,726 Iter 92, Minibatch Loss= -1.7237,Training Accuracy= 1.0000, Minibatch error= 0.0%\n",
      "2017-11-12 17:31:22,067 Iter 94, Minibatch Loss= -1.7240,Training Accuracy= 1.0000, Minibatch error= 0.0%\n",
      "2017-11-12 17:31:22,317 Epoch 2, Average loss: -1.7205,learning rate: 0.1805\n",
      "2017-11-12 17:31:22,592 Verification error= 0.0%, loss= -1.7237\n",
      "2017-11-12 17:31:27,424 Iter 96, Minibatch Loss= -1.7208,Training Accuracy= 1.0000, Minibatch error= 0.0%\n",
      "2017-11-12 17:31:27,726 Iter 98, Minibatch Loss= -1.7253,Training Accuracy= 1.0000, Minibatch error= 0.0%\n",
      "2017-11-12 17:31:28,037 Iter 100, Minibatch Loss= -1.7199,Training Accuracy= 1.0000, Minibatch error= 0.0%\n",
      "2017-11-12 17:31:28,344 Iter 102, Minibatch Loss= -1.7257,Training Accuracy= 1.0000, Minibatch error= 0.0%\n",
      "2017-11-12 17:31:28,653 Iter 104, Minibatch Loss= -1.7257,Training Accuracy= 1.0000, Minibatch error= 0.0%\n",
      "2017-11-12 17:31:28,986 Iter 106, Minibatch Loss= -1.7218,Training Accuracy= 1.0000, Minibatch error= 0.0%\n",
      "2017-11-12 17:31:29,354 Iter 108, Minibatch Loss= -1.7249,Training Accuracy= 1.0000, Minibatch error= 0.0%\n",
      "2017-11-12 17:31:29,666 Iter 110, Minibatch Loss= -1.7223,Training Accuracy= 1.0000, Minibatch error= 0.0%\n",
      "2017-11-12 17:31:30,040 Iter 112, Minibatch Loss= -1.7255,Training Accuracy= 1.0000, Minibatch error= 0.0%\n",
      "2017-11-12 17:31:30,356 Iter 114, Minibatch Loss= -1.7260,Training Accuracy= 1.0000, Minibatch error= 0.0%\n",
      "2017-11-12 17:31:30,762 Iter 116, Minibatch Loss= -1.7257,Training Accuracy= 1.0000, Minibatch error= 0.0%\n"
     ]
    },
    {
     "name": "stdout",
     "output_type": "stream",
     "text": [
      "Reading onitemi/data/mbd/training/23429140_15.tiff failed trying the next one\n"
     ]
    },
    {
     "name": "stderr",
     "output_type": "stream",
     "text": [
      "2017-11-12 17:31:31,215 Iter 118, Minibatch Loss= -1.7274,Training Accuracy= 1.0000, Minibatch error= 0.0%\n"
     ]
    },
    {
     "name": "stdout",
     "output_type": "stream",
     "text": [
      "Reading onitemi/data/mbd/training/22829020_15.tiff failed trying the next one\n",
      "Reading onitemi/data/mbd/training/24478855_15.tiff failed trying the next one\n",
      "Reading onitemi/data/mbd/training/24328855_15.tiff failed trying the next one\n"
     ]
    },
    {
     "name": "stderr",
     "output_type": "stream",
     "text": [
      "2017-11-12 17:31:31,662 Iter 120, Minibatch Loss= -1.7274,Training Accuracy= 1.0000, Minibatch error= 0.0%\n",
      "2017-11-12 17:31:31,979 Iter 122, Minibatch Loss= -1.7280,Training Accuracy= 1.0000, Minibatch error= 0.0%\n",
      "2017-11-12 17:31:32,322 Iter 124, Minibatch Loss= -1.7280,Training Accuracy= 1.0000, Minibatch error= 0.0%\n"
     ]
    },
    {
     "name": "stdout",
     "output_type": "stream",
     "text": [
      "Reading onitemi/data/mbd/training/22978870_15.tiff failed trying the next one\n",
      "Reading onitemi/data/mbd/training/23129125_15.tiff failed trying the next one\n"
     ]
    },
    {
     "name": "stderr",
     "output_type": "stream",
     "text": [
      "2017-11-12 17:31:32,762 Iter 126, Minibatch Loss= -1.7284,Training Accuracy= 1.0000, Minibatch error= 0.0%\n"
     ]
    },
    {
     "name": "stdout",
     "output_type": "stream",
     "text": [
      "Reading onitemi/data/mbd/training/23129170_15.tiff failed trying the next one\n"
     ]
    },
    {
     "name": "stderr",
     "output_type": "stream",
     "text": [
      "2017-11-12 17:31:32,907 Epoch 3, Average loss: -1.7251,learning rate: 0.1715\n",
      "2017-11-12 17:31:33,125 Verification error= 0.0%, loss= -1.7273\n",
      "2017-11-12 17:31:38,280 Iter 128, Minibatch Loss= -1.7282,Training Accuracy= 1.0000, Minibatch error= 0.0%\n",
      "2017-11-12 17:31:38,589 Iter 130, Minibatch Loss= -1.7253,Training Accuracy= 1.0000, Minibatch error= 0.0%\n",
      "2017-11-12 17:31:38,995 Iter 132, Minibatch Loss= -1.7279,Training Accuracy= 1.0000, Minibatch error= 0.0%\n",
      "2017-11-12 17:31:39,331 Iter 134, Minibatch Loss= -1.7288,Training Accuracy= 1.0000, Minibatch error= 0.0%\n",
      "2017-11-12 17:31:39,680 Iter 136, Minibatch Loss= -1.7300,Training Accuracy= 1.0000, Minibatch error= 0.0%\n",
      "2017-11-12 17:31:40,010 Iter 138, Minibatch Loss= -1.7304,Training Accuracy= 1.0000, Minibatch error= 0.0%\n"
     ]
    },
    {
     "name": "stdout",
     "output_type": "stream",
     "text": [
      "Reading onitemi/data/mbd/training/23429125_15.tiff failed trying the next one\n"
     ]
    },
    {
     "name": "stderr",
     "output_type": "stream",
     "text": [
      "2017-11-12 17:31:40,382 Iter 140, Minibatch Loss= -1.7298,Training Accuracy= 1.0000, Minibatch error= 0.0%\n",
      "2017-11-12 17:31:40,680 Iter 142, Minibatch Loss= -1.7302,Training Accuracy= 1.0000, Minibatch error= 0.0%\n",
      "2017-11-12 17:31:40,973 Iter 144, Minibatch Loss= -1.7307,Training Accuracy= 1.0000, Minibatch error= 0.0%\n",
      "2017-11-12 17:31:41,270 Iter 146, Minibatch Loss= -1.7304,Training Accuracy= 1.0000, Minibatch error= 0.0%\n",
      "2017-11-12 17:31:41,565 Iter 148, Minibatch Loss= -1.7308,Training Accuracy= 1.0000, Minibatch error= 0.0%\n",
      "2017-11-12 17:31:41,870 Iter 150, Minibatch Loss= -1.7312,Training Accuracy= 1.0000, Minibatch error= 0.0%\n",
      "2017-11-12 17:31:42,162 Iter 152, Minibatch Loss= -1.7310,Training Accuracy= 1.0000, Minibatch error= 0.0%\n",
      "2017-11-12 17:31:42,498 Iter 154, Minibatch Loss= -1.7312,Training Accuracy= 1.0000, Minibatch error= 0.0%\n",
      "2017-11-12 17:31:42,795 Iter 156, Minibatch Loss= -1.7313,Training Accuracy= 1.0000, Minibatch error= 0.0%\n",
      "2017-11-12 17:31:43,220 Iter 158, Minibatch Loss= -1.7316,Training Accuracy= 1.0000, Minibatch error= 0.0%\n",
      "2017-11-12 17:31:43,360 Epoch 4, Average loss: -1.7296,learning rate: 0.1629\n",
      "2017-11-12 17:31:43,641 Verification error= 0.0%, loss= -1.7306\n",
      "2017-11-12 17:31:48,642 Iter 160, Minibatch Loss= -1.7310,Training Accuracy= 1.0000, Minibatch error= 0.0%\n",
      "2017-11-12 17:31:48,937 Iter 162, Minibatch Loss= -1.7299,Training Accuracy= 1.0000, Minibatch error= 0.0%\n",
      "2017-11-12 17:31:49,260 Iter 164, Minibatch Loss= -1.7318,Training Accuracy= 1.0000, Minibatch error= 0.0%\n",
      "2017-11-12 17:31:49,561 Iter 166, Minibatch Loss= -1.7319,Training Accuracy= 1.0000, Minibatch error= 0.0%\n",
      "2017-11-12 17:31:49,860 Iter 168, Minibatch Loss= -1.7318,Training Accuracy= 1.0000, Minibatch error= 0.0%\n",
      "2017-11-12 17:31:50,156 Iter 170, Minibatch Loss= -1.7311,Training Accuracy= 1.0000, Minibatch error= 0.0%\n",
      "2017-11-12 17:31:50,557 Iter 172, Minibatch Loss= -1.7340,Training Accuracy= 1.0000, Minibatch error= 0.0%\n",
      "2017-11-12 17:31:50,854 Iter 174, Minibatch Loss= -1.7334,Training Accuracy= 1.0000, Minibatch error= 0.0%\n",
      "2017-11-12 17:31:51,156 Iter 176, Minibatch Loss= -1.7338,Training Accuracy= 1.0000, Minibatch error= 0.0%\n",
      "2017-11-12 17:31:51,462 Iter 178, Minibatch Loss= -1.7336,Training Accuracy= 1.0000, Minibatch error= 0.0%\n",
      "2017-11-12 17:31:51,763 Iter 180, Minibatch Loss= -1.7343,Training Accuracy= 1.0000, Minibatch error= 0.0%\n",
      "2017-11-12 17:31:52,062 Iter 182, Minibatch Loss= -1.7345,Training Accuracy= 1.0000, Minibatch error= 0.0%\n",
      "2017-11-12 17:31:52,358 Iter 184, Minibatch Loss= -1.7344,Training Accuracy= 1.0000, Minibatch error= 0.0%\n",
      "2017-11-12 17:31:52,662 Iter 186, Minibatch Loss= -1.7342,Training Accuracy= 1.0000, Minibatch error= 0.0%\n",
      "2017-11-12 17:31:52,956 Iter 188, Minibatch Loss= -1.7347,Training Accuracy= 1.0000, Minibatch error= 0.0%\n",
      "2017-11-12 17:31:53,255 Iter 190, Minibatch Loss= -1.7325,Training Accuracy= 1.0000, Minibatch error= 0.0%\n",
      "2017-11-12 17:31:53,393 Epoch 5, Average loss: -1.7329,learning rate: 0.1548\n",
      "2017-11-12 17:31:53,614 Verification error= 0.0%, loss= -1.7338\n",
      "2017-11-12 17:31:59,036 Iter 192, Minibatch Loss= -1.7348,Training Accuracy= 1.0000, Minibatch error= 0.0%\n",
      "2017-11-12 17:31:59,352 Iter 194, Minibatch Loss= -1.7355,Training Accuracy= 1.0000, Minibatch error= 0.0%\n",
      "2017-11-12 17:31:59,650 Iter 196, Minibatch Loss= -1.7358,Training Accuracy= 1.0000, Minibatch error= 0.0%\n",
      "2017-11-12 17:32:00,016 Iter 198, Minibatch Loss= -1.7361,Training Accuracy= 1.0000, Minibatch error= 0.0%\n",
      "2017-11-12 17:32:00,328 Iter 200, Minibatch Loss= -1.7363,Training Accuracy= 1.0000, Minibatch error= 0.0%\n",
      "2017-11-12 17:32:00,706 Iter 202, Minibatch Loss= -1.7362,Training Accuracy= 1.0000, Minibatch error= 0.0%\n",
      "2017-11-12 17:32:01,088 Iter 204, Minibatch Loss= -1.7363,Training Accuracy= 1.0000, Minibatch error= 0.0%\n",
      "2017-11-12 17:32:01,402 Iter 206, Minibatch Loss= -1.7363,Training Accuracy= 1.0000, Minibatch error= 0.0%\n",
      "2017-11-12 17:32:01,790 Iter 208, Minibatch Loss= -1.7372,Training Accuracy= 1.0000, Minibatch error= 0.0%\n",
      "2017-11-12 17:32:02,093 Iter 210, Minibatch Loss= -1.7340,Training Accuracy= 1.0000, Minibatch error= 0.0%\n",
      "2017-11-12 17:32:02,452 Iter 212, Minibatch Loss= -1.7373,Training Accuracy= 1.0000, Minibatch error= 0.0%\n",
      "2017-11-12 17:32:02,766 Iter 214, Minibatch Loss= -1.7366,Training Accuracy= 1.0000, Minibatch error= 0.0%\n",
      "2017-11-12 17:32:03,072 Iter 216, Minibatch Loss= -1.7379,Training Accuracy= 1.0000, Minibatch error= 0.0%\n",
      "2017-11-12 17:32:03,373 Iter 218, Minibatch Loss= -1.7378,Training Accuracy= 1.0000, Minibatch error= 0.0%\n",
      "2017-11-12 17:32:03,673 Iter 220, Minibatch Loss= -1.7377,Training Accuracy= 1.0000, Minibatch error= 0.0%\n",
      "2017-11-12 17:32:04,039 Iter 222, Minibatch Loss= -1.7382,Training Accuracy= 1.0000, Minibatch error= 0.0%\n",
      "2017-11-12 17:32:04,223 Epoch 6, Average loss: -1.7361,learning rate: 0.1470\n",
      "2017-11-12 17:32:04,466 Verification error= 0.0%, loss= -1.7368\n",
      "2017-11-12 17:32:10,272 Iter 224, Minibatch Loss= -1.7377,Training Accuracy= 1.0000, Minibatch error= 0.0%\n",
      "2017-11-12 17:32:10,601 Iter 226, Minibatch Loss= -1.7381,Training Accuracy= 1.0000, Minibatch error= 0.0%\n",
      "2017-11-12 17:32:10,964 Iter 228, Minibatch Loss= -1.7374,Training Accuracy= 1.0000, Minibatch error= 0.0%\n",
      "2017-11-12 17:32:11,288 Iter 230, Minibatch Loss= -1.7361,Training Accuracy= 1.0000, Minibatch error= 0.0%\n",
      "2017-11-12 17:32:11,583 Iter 232, Minibatch Loss= -1.7375,Training Accuracy= 1.0000, Minibatch error= 0.0%\n",
      "2017-11-12 17:32:11,884 Iter 234, Minibatch Loss= -1.7390,Training Accuracy= 1.0000, Minibatch error= 0.0%\n",
      "2017-11-12 17:32:12,178 Iter 236, Minibatch Loss= -1.7379,Training Accuracy= 1.0000, Minibatch error= 0.0%\n",
      "2017-11-12 17:32:12,488 Iter 238, Minibatch Loss= -1.7373,Training Accuracy= 1.0000, Minibatch error= 0.0%\n",
      "2017-11-12 17:32:12,788 Iter 240, Minibatch Loss= -1.7382,Training Accuracy= 1.0000, Minibatch error= 0.0%\n",
      "2017-11-12 17:32:13,091 Iter 242, Minibatch Loss= -1.7374,Training Accuracy= 1.0000, Minibatch error= 0.0%\n",
      "2017-11-12 17:32:13,387 Iter 244, Minibatch Loss= -1.7369,Training Accuracy= 1.0000, Minibatch error= 0.0%\n",
      "2017-11-12 17:32:13,677 Iter 246, Minibatch Loss= -1.7385,Training Accuracy= 1.0000, Minibatch error= 0.0%\n",
      "2017-11-12 17:32:13,966 Iter 248, Minibatch Loss= -1.7368,Training Accuracy= 1.0000, Minibatch error= 0.0%\n",
      "2017-11-12 17:32:14,270 Iter 250, Minibatch Loss= -1.7369,Training Accuracy= 1.0000, Minibatch error= 0.0%\n",
      "2017-11-12 17:32:14,563 Iter 252, Minibatch Loss= -1.7382,Training Accuracy= 1.0000, Minibatch error= 0.0%\n",
      "2017-11-12 17:32:14,880 Iter 254, Minibatch Loss= -1.7398,Training Accuracy= 1.0000, Minibatch error= 0.0%\n",
      "2017-11-12 17:32:15,017 Epoch 7, Average loss: -1.7378,learning rate: 0.1397\n",
      "2017-11-12 17:32:15,236 Verification error= 0.0%, loss= -1.7396\n",
      "2017-11-12 17:32:20,744 Iter 256, Minibatch Loss= -1.7401,Training Accuracy= 1.0000, Minibatch error= 0.0%\n",
      "2017-11-12 17:32:21,064 Iter 258, Minibatch Loss= -1.7394,Training Accuracy= 1.0000, Minibatch error= 0.0%\n",
      "2017-11-12 17:32:21,367 Iter 260, Minibatch Loss= -1.7384,Training Accuracy= 1.0000, Minibatch error= 0.0%\n"
     ]
    },
    {
     "name": "stdout",
     "output_type": "stream",
     "text": [
      "Reading onitemi/data/mbd/training/24029110_15.tiff failed trying the next one\n"
     ]
    },
    {
     "name": "stderr",
     "output_type": "stream",
     "text": [
      "2017-11-12 17:32:21,741 Iter 262, Minibatch Loss= -1.7403,Training Accuracy= 1.0000, Minibatch error= 0.0%\n",
      "2017-11-12 17:32:22,044 Iter 264, Minibatch Loss= -1.7418,Training Accuracy= 1.0000, Minibatch error= 0.0%\n",
      "2017-11-12 17:32:22,345 Iter 266, Minibatch Loss= -1.7413,Training Accuracy= 1.0000, Minibatch error= 0.0%\n",
      "2017-11-12 17:32:22,640 Iter 268, Minibatch Loss= -1.7413,Training Accuracy= 1.0000, Minibatch error= 0.0%\n",
      "2017-11-12 17:32:22,934 Iter 270, Minibatch Loss= -1.7412,Training Accuracy= 1.0000, Minibatch error= 0.0%\n",
      "2017-11-12 17:32:23,231 Iter 272, Minibatch Loss= -1.7413,Training Accuracy= 1.0000, Minibatch error= 0.0%\n",
      "2017-11-12 17:32:23,528 Iter 274, Minibatch Loss= -1.7418,Training Accuracy= 1.0000, Minibatch error= 0.0%\n",
      "2017-11-12 17:32:23,824 Iter 276, Minibatch Loss= -1.7424,Training Accuracy= 1.0000, Minibatch error= 0.0%\n",
      "2017-11-12 17:32:24,116 Iter 278, Minibatch Loss= -1.7422,Training Accuracy= 1.0000, Minibatch error= 0.0%\n",
      "2017-11-12 17:32:24,410 Iter 280, Minibatch Loss= -1.7426,Training Accuracy= 1.0000, Minibatch error= 0.0%\n",
      "2017-11-12 17:32:24,709 Iter 282, Minibatch Loss= -1.7424,Training Accuracy= 1.0000, Minibatch error= 0.0%\n",
      "2017-11-12 17:32:25,010 Iter 284, Minibatch Loss= -1.7434,Training Accuracy= 1.0000, Minibatch error= 0.0%\n",
      "2017-11-12 17:32:25,314 Iter 286, Minibatch Loss= -1.7410,Training Accuracy= 1.0000, Minibatch error= 0.0%\n",
      "2017-11-12 17:32:25,451 Epoch 8, Average loss: -1.7411,learning rate: 0.1327\n",
      "2017-11-12 17:32:25,675 Verification error= 0.0%, loss= -1.7422\n",
      "2017-11-12 17:32:31,379 Iter 288, Minibatch Loss= -1.7385,Training Accuracy= 1.0000, Minibatch error= 0.0%\n",
      "2017-11-12 17:32:31,682 Iter 290, Minibatch Loss= -1.7397,Training Accuracy= 1.0000, Minibatch error= 0.0%\n",
      "2017-11-12 17:32:31,971 Iter 292, Minibatch Loss= -1.7427,Training Accuracy= 1.0000, Minibatch error= 0.0%\n",
      "2017-11-12 17:32:32,269 Iter 294, Minibatch Loss= -1.7432,Training Accuracy= 1.0000, Minibatch error= 0.0%\n",
      "2017-11-12 17:32:32,559 Iter 296, Minibatch Loss= -1.7443,Training Accuracy= 1.0000, Minibatch error= 0.0%\n",
      "2017-11-12 17:32:32,907 Iter 298, Minibatch Loss= -1.7442,Training Accuracy= 1.0000, Minibatch error= 0.0%\n",
      "2017-11-12 17:32:33,196 Iter 300, Minibatch Loss= -1.7448,Training Accuracy= 1.0000, Minibatch error= 0.0%\n",
      "2017-11-12 17:32:33,476 Iter 302, Minibatch Loss= -1.7448,Training Accuracy= 1.0000, Minibatch error= 0.0%\n",
      "2017-11-12 17:32:33,760 Iter 304, Minibatch Loss= -1.7454,Training Accuracy= 1.0000, Minibatch error= 0.0%\n",
      "2017-11-12 17:32:34,068 Iter 306, Minibatch Loss= -1.7450,Training Accuracy= 1.0000, Minibatch error= 0.0%\n",
      "2017-11-12 17:32:34,364 Iter 308, Minibatch Loss= -1.7452,Training Accuracy= 1.0000, Minibatch error= 0.0%\n",
      "2017-11-12 17:32:34,659 Iter 310, Minibatch Loss= -1.7456,Training Accuracy= 1.0000, Minibatch error= 0.0%\n",
      "2017-11-12 17:32:34,959 Iter 312, Minibatch Loss= -1.7454,Training Accuracy= 1.0000, Minibatch error= 0.0%\n",
      "2017-11-12 17:32:35,252 Iter 314, Minibatch Loss= -1.7452,Training Accuracy= 1.0000, Minibatch error= 0.0%\n",
      "2017-11-12 17:32:35,602 Iter 316, Minibatch Loss= -1.7435,Training Accuracy= 1.0000, Minibatch error= 0.0%\n",
      "2017-11-12 17:32:35,899 Iter 318, Minibatch Loss= -1.7443,Training Accuracy= 1.0000, Minibatch error= 0.0%\n",
      "2017-11-12 17:32:36,037 Epoch 9, Average loss: -1.7441,learning rate: 0.1260\n",
      "2017-11-12 17:32:36,248 Verification error= 0.0%, loss= -1.7446\n",
      "2017-11-12 17:32:42,280 Iter 320, Minibatch Loss= -1.7452,Training Accuracy= 1.0000, Minibatch error= 0.0%\n",
      "2017-11-12 17:32:42,580 Iter 322, Minibatch Loss= -1.7447,Training Accuracy= 1.0000, Minibatch error= 0.0%\n",
      "2017-11-12 17:32:42,874 Iter 324, Minibatch Loss= -1.7448,Training Accuracy= 1.0000, Minibatch error= 0.0%\n",
      "2017-11-12 17:32:43,168 Iter 326, Minibatch Loss= -1.7464,Training Accuracy= 1.0000, Minibatch error= 0.0%\n",
      "2017-11-12 17:32:43,462 Iter 328, Minibatch Loss= -1.7464,Training Accuracy= 1.0000, Minibatch error= 0.0%\n",
      "2017-11-12 17:32:43,756 Iter 330, Minibatch Loss= -1.7460,Training Accuracy= 1.0000, Minibatch error= 0.0%\n",
      "2017-11-12 17:32:44,064 Iter 332, Minibatch Loss= -1.7471,Training Accuracy= 1.0000, Minibatch error= 0.0%\n",
      "2017-11-12 17:32:44,363 Iter 334, Minibatch Loss= -1.7465,Training Accuracy= 1.0000, Minibatch error= 0.0%\n",
      "2017-11-12 17:32:44,657 Iter 336, Minibatch Loss= -1.7462,Training Accuracy= 1.0000, Minibatch error= 0.0%\n",
      "2017-11-12 17:32:44,972 Iter 338, Minibatch Loss= -1.7455,Training Accuracy= 1.0000, Minibatch error= 0.0%\n",
      "2017-11-12 17:32:45,337 Iter 340, Minibatch Loss= -1.7475,Training Accuracy= 1.0000, Minibatch error= 0.0%\n",
      "2017-11-12 17:32:45,637 Iter 342, Minibatch Loss= -1.7476,Training Accuracy= 1.0000, Minibatch error= 0.0%\n",
      "2017-11-12 17:32:45,939 Iter 344, Minibatch Loss= -1.7480,Training Accuracy= 1.0000, Minibatch error= 0.0%\n",
      "2017-11-12 17:32:46,232 Iter 346, Minibatch Loss= -1.7480,Training Accuracy= 1.0000, Minibatch error= 0.0%\n",
      "2017-11-12 17:32:46,530 Iter 348, Minibatch Loss= -1.7486,Training Accuracy= 1.0000, Minibatch error= 0.0%\n",
      "2017-11-12 17:32:46,835 Iter 350, Minibatch Loss= -1.7485,Training Accuracy= 1.0000, Minibatch error= 0.0%\n",
      "2017-11-12 17:32:46,965 Epoch 10, Average loss: -1.7466,learning rate: 0.1197\n",
      "2017-11-12 17:32:47,186 Verification error= 0.0%, loss= -1.7470\n",
      "2017-11-12 17:32:53,555 Iter 352, Minibatch Loss= -1.7481,Training Accuracy= 1.0000, Minibatch error= 0.0%\n",
      "2017-11-12 17:32:53,844 Iter 354, Minibatch Loss= -1.7485,Training Accuracy= 1.0000, Minibatch error= 0.0%\n",
      "2017-11-12 17:32:54,133 Iter 356, Minibatch Loss= -1.7479,Training Accuracy= 1.0000, Minibatch error= 0.0%\n",
      "2017-11-12 17:32:54,442 Iter 358, Minibatch Loss= -1.7484,Training Accuracy= 1.0000, Minibatch error= 0.0%\n",
      "2017-11-12 17:32:54,757 Iter 360, Minibatch Loss= -1.7487,Training Accuracy= 1.0000, Minibatch error= 0.0%\n",
      "2017-11-12 17:32:55,067 Iter 362, Minibatch Loss= -1.7491,Training Accuracy= 1.0000, Minibatch error= 0.0%\n",
      "2017-11-12 17:32:55,369 Iter 364, Minibatch Loss= -1.7490,Training Accuracy= 1.0000, Minibatch error= 0.0%\n",
      "2017-11-12 17:32:55,705 Iter 366, Minibatch Loss= -1.7484,Training Accuracy= 1.0000, Minibatch error= 0.0%\n",
      "2017-11-12 17:32:56,008 Iter 368, Minibatch Loss= -1.7490,Training Accuracy= 1.0000, Minibatch error= 0.0%\n",
      "2017-11-12 17:32:56,302 Iter 370, Minibatch Loss= -1.7450,Training Accuracy= 1.0000, Minibatch error= 0.0%\n",
      "2017-11-12 17:32:56,597 Iter 372, Minibatch Loss= -1.7444,Training Accuracy= 1.0000, Minibatch error= 0.0%\n",
      "2017-11-12 17:32:56,890 Iter 374, Minibatch Loss= -1.7497,Training Accuracy= 1.0000, Minibatch error= 0.0%\n",
      "2017-11-12 17:32:57,244 Iter 376, Minibatch Loss= -1.7494,Training Accuracy= 1.0000, Minibatch error= 0.0%\n",
      "2017-11-12 17:32:57,552 Iter 378, Minibatch Loss= -1.7480,Training Accuracy= 1.0000, Minibatch error= 0.0%\n",
      "2017-11-12 17:32:57,858 Iter 380, Minibatch Loss= -1.7478,Training Accuracy= 1.0000, Minibatch error= 0.0%\n",
      "2017-11-12 17:32:58,154 Iter 382, Minibatch Loss= -1.7498,Training Accuracy= 1.0000, Minibatch error= 0.0%\n",
      "2017-11-12 17:32:58,291 Epoch 11, Average loss: -1.7480,learning rate: 0.1138\n",
      "2017-11-12 17:32:58,512 Verification error= 0.0%, loss= -1.7491\n",
      "2017-11-12 17:33:04,616 Iter 384, Minibatch Loss= -1.7489,Training Accuracy= 1.0000, Minibatch error= 0.0%\n",
      "2017-11-12 17:33:04,928 Iter 386, Minibatch Loss= -1.7490,Training Accuracy= 1.0000, Minibatch error= 0.0%\n",
      "2017-11-12 17:33:05,235 Iter 388, Minibatch Loss= -1.7465,Training Accuracy= 1.0000, Minibatch error= 0.0%\n",
      "2017-11-12 17:33:05,540 Iter 390, Minibatch Loss= -1.7497,Training Accuracy= 1.0000, Minibatch error= 0.0%\n",
      "2017-11-12 17:33:05,830 Iter 392, Minibatch Loss= -1.7516,Training Accuracy= 1.0000, Minibatch error= 0.0%\n",
      "2017-11-12 17:33:06,125 Iter 394, Minibatch Loss= -1.7495,Training Accuracy= 1.0000, Minibatch error= 0.0%\n",
      "2017-11-12 17:33:06,412 Iter 396, Minibatch Loss= -1.7500,Training Accuracy= 1.0000, Minibatch error= 0.0%\n",
      "2017-11-12 17:33:06,703 Iter 398, Minibatch Loss= -1.7503,Training Accuracy= 1.0000, Minibatch error= 0.0%\n",
      "2017-11-12 17:33:06,994 Iter 400, Minibatch Loss= -1.7493,Training Accuracy= 1.0000, Minibatch error= 0.0%\n",
      "2017-11-12 17:33:07,329 Iter 402, Minibatch Loss= -1.7516,Training Accuracy= 1.0000, Minibatch error= 0.0%\n",
      "2017-11-12 17:33:07,647 Iter 404, Minibatch Loss= -1.7505,Training Accuracy= 1.0000, Minibatch error= 0.0%\n"
     ]
    },
    {
     "name": "stderr",
     "output_type": "stream",
     "text": [
      "2017-11-12 17:33:08,031 Iter 406, Minibatch Loss= -1.7515,Training Accuracy= 1.0000, Minibatch error= 0.0%\n",
      "2017-11-12 17:33:08,330 Iter 408, Minibatch Loss= -1.7481,Training Accuracy= 1.0000, Minibatch error= 0.0%\n",
      "2017-11-12 17:33:08,637 Iter 410, Minibatch Loss= -1.7522,Training Accuracy= 1.0000, Minibatch error= 0.0%\n",
      "2017-11-12 17:33:09,016 Iter 412, Minibatch Loss= -1.7528,Training Accuracy= 1.0000, Minibatch error= 0.0%\n",
      "2017-11-12 17:33:09,441 Iter 414, Minibatch Loss= -1.7526,Training Accuracy= 1.0000, Minibatch error= 0.0%\n",
      "2017-11-12 17:33:09,602 Epoch 12, Average loss: -1.7502,learning rate: 0.1081\n",
      "2017-11-12 17:33:09,887 Verification error= 0.0%, loss= -1.7512\n",
      "2017-11-12 17:33:16,093 Iter 416, Minibatch Loss= -1.7528,Training Accuracy= 1.0000, Minibatch error= 0.0%\n",
      "2017-11-12 17:33:16,388 Iter 418, Minibatch Loss= -1.7534,Training Accuracy= 1.0000, Minibatch error= 0.0%\n",
      "2017-11-12 17:33:16,684 Iter 420, Minibatch Loss= -1.7528,Training Accuracy= 1.0000, Minibatch error= 0.0%\n"
     ]
    },
    {
     "name": "stdout",
     "output_type": "stream",
     "text": [
      "Reading onitemi/data/mbd/training/23279170_15.tiff failed trying the next one\n"
     ]
    },
    {
     "name": "stderr",
     "output_type": "stream",
     "text": [
      "2017-11-12 17:33:17,055 Iter 422, Minibatch Loss= -1.7534,Training Accuracy= 1.0000, Minibatch error= 0.0%\n",
      "2017-11-12 17:33:17,355 Iter 424, Minibatch Loss= -1.7532,Training Accuracy= 1.0000, Minibatch error= 0.0%\n",
      "2017-11-12 17:33:17,743 Iter 426, Minibatch Loss= -1.7525,Training Accuracy= 1.0000, Minibatch error= 0.0%\n",
      "2017-11-12 17:33:18,057 Iter 428, Minibatch Loss= -1.7532,Training Accuracy= 1.0000, Minibatch error= 0.0%\n",
      "2017-11-12 17:33:18,396 Iter 430, Minibatch Loss= -1.7534,Training Accuracy= 1.0000, Minibatch error= 0.0%\n",
      "2017-11-12 17:33:18,697 Iter 432, Minibatch Loss= -1.7535,Training Accuracy= 1.0000, Minibatch error= 0.0%\n",
      "2017-11-12 17:33:19,020 Iter 434, Minibatch Loss= -1.7532,Training Accuracy= 1.0000, Minibatch error= 0.0%\n",
      "2017-11-12 17:33:19,394 Iter 436, Minibatch Loss= -1.7538,Training Accuracy= 1.0000, Minibatch error= 0.0%\n",
      "2017-11-12 17:33:19,734 Iter 438, Minibatch Loss= -1.7512,Training Accuracy= 1.0000, Minibatch error= 0.0%\n",
      "2017-11-12 17:33:20,030 Iter 440, Minibatch Loss= -1.7537,Training Accuracy= 1.0000, Minibatch error= 0.0%\n",
      "2017-11-12 17:33:20,341 Iter 442, Minibatch Loss= -1.7543,Training Accuracy= 1.0000, Minibatch error= 0.0%\n",
      "2017-11-12 17:33:20,662 Iter 444, Minibatch Loss= -1.7533,Training Accuracy= 1.0000, Minibatch error= 0.0%\n",
      "2017-11-12 17:33:20,961 Iter 446, Minibatch Loss= -1.7542,Training Accuracy= 1.0000, Minibatch error= 0.0%\n",
      "2017-11-12 17:33:21,169 Epoch 13, Average loss: -1.7532,learning rate: 0.1027\n",
      "2017-11-12 17:33:21,408 Verification error= 0.0%, loss= -1.7531\n",
      "2017-11-12 17:33:28,622 Iter 448, Minibatch Loss= -1.7547,Training Accuracy= 1.0000, Minibatch error= 0.0%\n",
      "2017-11-12 17:33:28,929 Iter 450, Minibatch Loss= -1.7536,Training Accuracy= 1.0000, Minibatch error= 0.0%\n",
      "2017-11-12 17:33:29,216 Iter 452, Minibatch Loss= -1.7545,Training Accuracy= 1.0000, Minibatch error= 0.0%\n",
      "2017-11-12 17:33:29,585 Iter 454, Minibatch Loss= -1.7539,Training Accuracy= 1.0000, Minibatch error= 0.0%\n",
      "2017-11-12 17:33:29,888 Iter 456, Minibatch Loss= -1.7554,Training Accuracy= 1.0000, Minibatch error= 0.0%\n",
      "2017-11-12 17:33:30,193 Iter 458, Minibatch Loss= -1.7554,Training Accuracy= 1.0000, Minibatch error= 0.0%\n",
      "2017-11-12 17:33:30,502 Iter 460, Minibatch Loss= -1.7554,Training Accuracy= 1.0000, Minibatch error= 0.0%\n",
      "2017-11-12 17:33:30,917 Iter 462, Minibatch Loss= -1.7545,Training Accuracy= 1.0000, Minibatch error= 0.0%\n",
      "2017-11-12 17:33:31,255 Iter 464, Minibatch Loss= -1.7553,Training Accuracy= 1.0000, Minibatch error= 0.0%\n",
      "2017-11-12 17:33:31,701 Iter 466, Minibatch Loss= -1.7549,Training Accuracy= 1.0000, Minibatch error= 0.0%\n",
      "2017-11-12 17:33:32,130 Iter 468, Minibatch Loss= -1.7560,Training Accuracy= 1.0000, Minibatch error= 0.0%\n",
      "2017-11-12 17:33:32,480 Iter 470, Minibatch Loss= -1.7560,Training Accuracy= 1.0000, Minibatch error= 0.0%\n",
      "2017-11-12 17:33:32,850 Iter 472, Minibatch Loss= -1.7547,Training Accuracy= 1.0000, Minibatch error= 0.0%\n",
      "2017-11-12 17:33:33,171 Iter 474, Minibatch Loss= -1.7544,Training Accuracy= 1.0000, Minibatch error= 0.0%\n",
      "2017-11-12 17:33:33,497 Iter 476, Minibatch Loss= -1.7550,Training Accuracy= 1.0000, Minibatch error= 0.0%\n",
      "2017-11-12 17:33:33,862 Iter 478, Minibatch Loss= -1.7546,Training Accuracy= 1.0000, Minibatch error= 0.0%\n",
      "2017-11-12 17:33:34,026 Epoch 14, Average loss: -1.7545,learning rate: 0.0975\n",
      "2017-11-12 17:33:34,284 Verification error= 0.0%, loss= -1.7550\n",
      "2017-11-12 17:33:41,128 Iter 480, Minibatch Loss= -1.7556,Training Accuracy= 1.0000, Minibatch error= 0.0%\n",
      "2017-11-12 17:33:41,419 Iter 482, Minibatch Loss= -1.7559,Training Accuracy= 1.0000, Minibatch error= 0.0%\n",
      "2017-11-12 17:33:41,696 Iter 484, Minibatch Loss= -1.7561,Training Accuracy= 1.0000, Minibatch error= 0.0%\n",
      "2017-11-12 17:33:41,986 Iter 486, Minibatch Loss= -1.7555,Training Accuracy= 1.0000, Minibatch error= 0.0%\n",
      "2017-11-12 17:33:42,280 Iter 488, Minibatch Loss= -1.7555,Training Accuracy= 1.0000, Minibatch error= 0.0%\n",
      "2017-11-12 17:33:42,580 Iter 490, Minibatch Loss= -1.7559,Training Accuracy= 1.0000, Minibatch error= 0.0%\n",
      "2017-11-12 17:33:42,882 Iter 492, Minibatch Loss= -1.7574,Training Accuracy= 1.0000, Minibatch error= 0.0%\n",
      "2017-11-12 17:33:43,196 Iter 494, Minibatch Loss= -1.7554,Training Accuracy= 1.0000, Minibatch error= 0.0%\n"
     ]
    },
    {
     "name": "stdout",
     "output_type": "stream",
     "text": [
      "Reading onitemi/data/mbd/training/24478840_15.tiff failed trying the next one\n"
     ]
    },
    {
     "name": "stderr",
     "output_type": "stream",
     "text": [
      "2017-11-12 17:33:43,595 Iter 496, Minibatch Loss= -1.7523,Training Accuracy= 1.0000, Minibatch error= 0.0%\n",
      "2017-11-12 17:33:43,893 Iter 498, Minibatch Loss= -1.7519,Training Accuracy= 1.0000, Minibatch error= 0.0%\n",
      "2017-11-12 17:33:44,194 Iter 500, Minibatch Loss= -1.7557,Training Accuracy= 1.0000, Minibatch error= 0.0%\n",
      "2017-11-12 17:33:44,482 Iter 502, Minibatch Loss= -1.7524,Training Accuracy= 1.0000, Minibatch error= 0.0%\n",
      "2017-11-12 17:33:44,780 Iter 504, Minibatch Loss= -1.7549,Training Accuracy= 1.0000, Minibatch error= 0.0%\n",
      "2017-11-12 17:33:45,086 Iter 506, Minibatch Loss= -1.7525,Training Accuracy= 1.0000, Minibatch error= 0.0%\n",
      "2017-11-12 17:33:45,394 Iter 508, Minibatch Loss= -1.7560,Training Accuracy= 1.0000, Minibatch error= 0.0%\n",
      "2017-11-12 17:33:45,687 Iter 510, Minibatch Loss= -1.7525,Training Accuracy= 1.0000, Minibatch error= 0.0%\n",
      "2017-11-12 17:33:45,814 Epoch 15, Average loss: -1.7550,learning rate: 0.0927\n",
      "2017-11-12 17:33:46,027 Verification error= 0.0%, loss= -1.7567\n",
      "2017-11-12 17:33:53,213 Iter 512, Minibatch Loss= -1.7560,Training Accuracy= 1.0000, Minibatch error= 0.0%\n",
      "2017-11-12 17:33:53,557 Iter 514, Minibatch Loss= -1.7574,Training Accuracy= 1.0000, Minibatch error= 0.0%\n",
      "2017-11-12 17:33:53,860 Iter 516, Minibatch Loss= -1.7572,Training Accuracy= 1.0000, Minibatch error= 0.0%\n",
      "2017-11-12 17:33:54,218 Iter 518, Minibatch Loss= -1.7578,Training Accuracy= 1.0000, Minibatch error= 0.0%\n",
      "2017-11-12 17:33:54,507 Iter 520, Minibatch Loss= -1.7579,Training Accuracy= 1.0000, Minibatch error= 0.0%\n",
      "2017-11-12 17:33:54,818 Iter 522, Minibatch Loss= -1.7569,Training Accuracy= 1.0000, Minibatch error= 0.0%\n",
      "2017-11-12 17:33:55,165 Iter 524, Minibatch Loss= -1.7529,Training Accuracy= 1.0000, Minibatch error= 0.0%\n",
      "2017-11-12 17:33:55,478 Iter 526, Minibatch Loss= -1.7570,Training Accuracy= 1.0000, Minibatch error= 0.0%\n",
      "2017-11-12 17:33:55,776 Iter 528, Minibatch Loss= -1.7531,Training Accuracy= 1.0000, Minibatch error= 0.0%\n",
      "2017-11-12 17:33:56,075 Iter 530, Minibatch Loss= -1.7573,Training Accuracy= 1.0000, Minibatch error= 0.0%\n",
      "2017-11-12 17:33:56,370 Iter 532, Minibatch Loss= -1.7548,Training Accuracy= 1.0000, Minibatch error= 0.0%\n",
      "2017-11-12 17:33:56,661 Iter 534, Minibatch Loss= -1.7578,Training Accuracy= 1.0000, Minibatch error= 0.0%\n",
      "2017-11-12 17:33:56,962 Iter 536, Minibatch Loss= -1.7592,Training Accuracy= 1.0000, Minibatch error= 0.0%\n",
      "2017-11-12 17:33:57,259 Iter 538, Minibatch Loss= -1.7574,Training Accuracy= 1.0000, Minibatch error= 0.0%\n",
      "2017-11-12 17:33:57,559 Iter 540, Minibatch Loss= -1.7563,Training Accuracy= 1.0000, Minibatch error= 0.0%\n",
      "2017-11-12 17:33:57,850 Iter 542, Minibatch Loss= -1.7590,Training Accuracy= 1.0000, Minibatch error= 0.0%\n",
      "2017-11-12 17:33:57,980 Epoch 16, Average loss: -1.7569,learning rate: 0.0880\n",
      "2017-11-12 17:33:58,211 Verification error= 0.0%, loss= -1.7583\n",
      "2017-11-12 17:34:05,624 Iter 544, Minibatch Loss= -1.7595,Training Accuracy= 1.0000, Minibatch error= 0.0%\n",
      "2017-11-12 17:34:05,934 Iter 546, Minibatch Loss= -1.7594,Training Accuracy= 1.0000, Minibatch error= 0.0%\n",
      "2017-11-12 17:34:06,312 Iter 548, Minibatch Loss= -1.7596,Training Accuracy= 1.0000, Minibatch error= 0.0%\n",
      "2017-11-12 17:34:06,628 Iter 550, Minibatch Loss= -1.7596,Training Accuracy= 1.0000, Minibatch error= 0.0%\n",
      "2017-11-12 17:34:06,933 Iter 552, Minibatch Loss= -1.7586,Training Accuracy= 1.0000, Minibatch error= 0.0%\n",
      "2017-11-12 17:34:07,235 Iter 554, Minibatch Loss= -1.7599,Training Accuracy= 1.0000, Minibatch error= 0.0%\n",
      "2017-11-12 17:34:07,532 Iter 556, Minibatch Loss= -1.7597,Training Accuracy= 1.0000, Minibatch error= 0.0%\n",
      "2017-11-12 17:34:07,842 Iter 558, Minibatch Loss= -1.7603,Training Accuracy= 1.0000, Minibatch error= 0.0%\n",
      "2017-11-12 17:34:08,158 Iter 560, Minibatch Loss= -1.7602,Training Accuracy= 1.0000, Minibatch error= 0.0%\n",
      "2017-11-12 17:34:08,477 Iter 562, Minibatch Loss= -1.7608,Training Accuracy= 1.0000, Minibatch error= 0.0%\n",
      "2017-11-12 17:34:08,846 Iter 564, Minibatch Loss= -1.7603,Training Accuracy= 1.0000, Minibatch error= 0.0%\n",
      "2017-11-12 17:34:09,155 Iter 566, Minibatch Loss= -1.7605,Training Accuracy= 1.0000, Minibatch error= 0.0%\n",
      "2017-11-12 17:34:09,484 Iter 568, Minibatch Loss= -1.7607,Training Accuracy= 1.0000, Minibatch error= 0.0%\n",
      "2017-11-12 17:34:09,789 Iter 570, Minibatch Loss= -1.7603,Training Accuracy= 1.0000, Minibatch error= 0.0%\n",
      "2017-11-12 17:34:10,109 Iter 572, Minibatch Loss= -1.7611,Training Accuracy= 1.0000, Minibatch error= 0.0%\n",
      "2017-11-12 17:34:10,417 Iter 574, Minibatch Loss= -1.7611,Training Accuracy= 1.0000, Minibatch error= 0.0%\n",
      "2017-11-12 17:34:10,553 Epoch 17, Average loss: -1.7600,learning rate: 0.0836\n",
      "2017-11-12 17:34:10,773 Verification error= 0.0%, loss= -1.7598\n",
      "2017-11-12 17:34:17,902 Iter 576, Minibatch Loss= -1.7609,Training Accuracy= 1.0000, Minibatch error= 0.0%\n",
      "2017-11-12 17:34:18,256 Iter 578, Minibatch Loss= -1.7602,Training Accuracy= 1.0000, Minibatch error= 0.0%\n",
      "2017-11-12 17:34:18,622 Iter 580, Minibatch Loss= -1.7613,Training Accuracy= 1.0000, Minibatch error= 0.0%\n",
      "2017-11-12 17:34:18,949 Iter 582, Minibatch Loss= -1.7599,Training Accuracy= 1.0000, Minibatch error= 0.0%\n",
      "2017-11-12 17:34:19,260 Iter 584, Minibatch Loss= -1.7605,Training Accuracy= 1.0000, Minibatch error= 0.0%\n",
      "2017-11-12 17:34:19,611 Iter 586, Minibatch Loss= -1.7606,Training Accuracy= 1.0000, Minibatch error= 0.0%\n",
      "2017-11-12 17:34:19,925 Iter 588, Minibatch Loss= -1.7591,Training Accuracy= 1.0000, Minibatch error= 0.0%\n",
      "2017-11-12 17:34:20,230 Iter 590, Minibatch Loss= -1.7622,Training Accuracy= 1.0000, Minibatch error= 0.0%\n",
      "2017-11-12 17:34:20,537 Iter 592, Minibatch Loss= -1.7619,Training Accuracy= 1.0000, Minibatch error= 0.0%\n",
      "2017-11-12 17:34:20,823 Iter 594, Minibatch Loss= -1.7608,Training Accuracy= 1.0000, Minibatch error= 0.0%\n",
      "2017-11-12 17:34:21,178 Iter 596, Minibatch Loss= -1.7608,Training Accuracy= 1.0000, Minibatch error= 0.0%\n",
      "2017-11-12 17:34:21,483 Iter 598, Minibatch Loss= -1.7613,Training Accuracy= 1.0000, Minibatch error= 0.0%\n",
      "2017-11-12 17:34:21,776 Iter 600, Minibatch Loss= -1.7616,Training Accuracy= 1.0000, Minibatch error= 0.0%\n",
      "2017-11-12 17:34:22,081 Iter 602, Minibatch Loss= -1.7606,Training Accuracy= 1.0000, Minibatch error= 0.0%\n",
      "2017-11-12 17:34:22,382 Iter 604, Minibatch Loss= -1.7567,Training Accuracy= 1.0000, Minibatch error= 0.0%\n",
      "2017-11-12 17:34:22,680 Iter 606, Minibatch Loss= -1.7616,Training Accuracy= 1.0000, Minibatch error= 0.0%\n",
      "2017-11-12 17:34:22,819 Epoch 18, Average loss: -1.7604,learning rate: 0.0794\n",
      "2017-11-12 17:34:23,039 Verification error= 0.0%, loss= -1.7613\n",
      "2017-11-12 17:34:30,756 Iter 608, Minibatch Loss= -1.7615,Training Accuracy= 1.0000, Minibatch error= 0.0%\n",
      "2017-11-12 17:34:31,075 Iter 610, Minibatch Loss= -1.7630,Training Accuracy= 1.0000, Minibatch error= 0.0%\n",
      "2017-11-12 17:34:31,411 Iter 612, Minibatch Loss= -1.7615,Training Accuracy= 1.0000, Minibatch error= 0.0%\n",
      "2017-11-12 17:34:31,747 Iter 614, Minibatch Loss= -1.7588,Training Accuracy= 1.0000, Minibatch error= 0.0%\n",
      "2017-11-12 17:34:32,147 Iter 616, Minibatch Loss= -1.7621,Training Accuracy= 1.0000, Minibatch error= 0.0%\n",
      "2017-11-12 17:34:32,449 Iter 618, Minibatch Loss= -1.7625,Training Accuracy= 1.0000, Minibatch error= 0.0%\n",
      "2017-11-12 17:34:32,768 Iter 620, Minibatch Loss= -1.7640,Training Accuracy= 1.0000, Minibatch error= 0.0%\n",
      "2017-11-12 17:34:33,071 Iter 622, Minibatch Loss= -1.7636,Training Accuracy= 1.0000, Minibatch error= 0.0%\n",
      "2017-11-12 17:34:33,375 Iter 624, Minibatch Loss= -1.7614,Training Accuracy= 1.0000, Minibatch error= 0.0%\n",
      "2017-11-12 17:34:33,671 Iter 626, Minibatch Loss= -1.7632,Training Accuracy= 1.0000, Minibatch error= 0.0%\n",
      "2017-11-12 17:34:33,972 Iter 628, Minibatch Loss= -1.7634,Training Accuracy= 1.0000, Minibatch error= 0.0%\n",
      "2017-11-12 17:34:34,330 Iter 630, Minibatch Loss= -1.7628,Training Accuracy= 1.0000, Minibatch error= 0.0%\n",
      "2017-11-12 17:34:34,705 Iter 632, Minibatch Loss= -1.7644,Training Accuracy= 1.0000, Minibatch error= 0.0%\n",
      "2017-11-12 17:34:35,037 Iter 634, Minibatch Loss= -1.7637,Training Accuracy= 1.0000, Minibatch error= 0.0%\n",
      "2017-11-12 17:34:35,363 Iter 636, Minibatch Loss= -1.7642,Training Accuracy= 1.0000, Minibatch error= 0.0%\n",
      "2017-11-12 17:34:35,681 Iter 638, Minibatch Loss= -1.7632,Training Accuracy= 1.0000, Minibatch error= 0.0%\n"
     ]
    },
    {
     "name": "stderr",
     "output_type": "stream",
     "text": [
      "2017-11-12 17:34:35,866 Epoch 19, Average loss: -1.7627,learning rate: 0.0755\n",
      "2017-11-12 17:34:36,114 Verification error= 0.0%, loss= -1.7626\n",
      "2017-11-12 17:34:43,854 Optimization Finished!\n"
     ]
    }
   ],
   "source": [
    "trainer = unet.Trainer(net, optimizer=\"momentum\", opt_kwargs=dict(momentum=0.2))\n",
    "path = trainer.train(train_data_provider, \"./unet_building_model\", \n",
    "                     training_iters=32, \n",
    "                     epochs=20, \n",
    "                     dropout=0.5, \n",
    "                     display_step=2)"
   ]
  },
  {
   "cell_type": "code",
   "execution_count": 60,
   "metadata": {
    "ExecuteTime": {
     "end_time": "2017-11-12T17:35:22.925744+02:00",
     "start_time": "2017-11-12T17:35:19.041037"
    },
    "run_control": {
     "frozen": false,
     "read_only": false
    }
   },
   "outputs": [
    {
     "name": "stdout",
     "output_type": "stream",
     "text": [
      "INFO:tensorflow:Restoring parameters from ./unet_building_model/model.cpkt\n"
     ]
    },
    {
     "name": "stderr",
     "output_type": "stream",
     "text": [
      "2017-11-12 17:35:22,556 Restoring parameters from ./unet_building_model/model.cpkt\n",
      "2017-11-12 17:35:22,824 Model restored from file: ./unet_building_model/model.cpkt\n"
     ]
    },
    {
     "data": {
      "text/plain": [
       "(1, 48, 48, 2)"
      ]
     },
     "execution_count": 60,
     "metadata": {},
     "output_type": "execute_result"
    }
   ],
   "source": [
    "#now validate\n",
    "x_test, y_test = test_data_provider(1)\n",
    "prediction = net.predict(path, x_test)\n",
    "prediction.shape"
   ]
  },
  {
   "cell_type": "code",
   "execution_count": 61,
   "metadata": {
    "ExecuteTime": {
     "end_time": "2017-11-12T17:35:26.144207+02:00",
     "start_time": "2017-11-12T17:35:25.590078"
    },
    "run_control": {
     "frozen": false,
     "read_only": false
    }
   },
   "outputs": [
    {
     "data": {
      "image/png": "[encoded data removed]",
      "text/plain": [
       "<matplotlib.figure.Figure at 0x14b7f58d0>"
      ]
     },
     "metadata": {},
     "output_type": "display_data"
    }
   ],
   "source": [
    "fig,(ax1,ax2) = plt.subplots(1,2,figsize=(16,8))\n",
    "show_image(y_test[0,...,0],ax=ax1)\n",
    "#show_image(x_test[0,...],prediction[0,...,0],ax=ax2)\n",
    "show_image(prediction[0,:,:,1],ax=ax2)"
   ]
  },
  {
   "cell_type": "code",
   "execution_count": 142,
   "metadata": {
    "ExecuteTime": {
     "end_time": "2017-10-07T12:28:27.245258+02:00",
     "start_time": "2017-10-07T12:28:26.833649"
    },
    "run_control": {
     "frozen": false,
     "read_only": false
    }
   },
   "outputs": [
    {
     "data": {
      "text/plain": [
       "'a/b'"
      ]
     },
     "execution_count": 142,
     "metadata": {},
     "output_type": "execute_result"
    }
   ],
   "source": [
    "os.make"
   ]
  },
  {
   "cell_type": "code",
   "execution_count": 104,
   "metadata": {
    "ExecuteTime": {
     "end_time": "2017-10-06T17:05:35.421039+02:00",
     "start_time": "2017-10-06T17:05:35.364794"
    },
    "run_control": {
     "frozen": false,
     "read_only": false
    }
   },
   "outputs": [
    {
     "name": "stdout",
     "output_type": "stream",
     "text": [
      "('filelist,tifffolder', False, True)\n"
     ]
    }
   ],
   "source": [
    "data_provider = ImageDataGenerator(img_folder,label_folder,stride=10,tol=3,flip=True,mirror=True,kayode=True)"
   ]
  },
  {
   "cell_type": "code",
   "execution_count": 105,
   "metadata": {
    "ExecuteTime": {
     "end_time": "2017-10-06T17:06:01.697133+02:00",
     "start_time": "2017-10-06T17:05:37.151482"
    },
    "run_control": {
     "frozen": false,
     "read_only": false
    }
   },
   "outputs": [
    {
     "name": "stdout",
     "output_type": "stream",
     "text": [
      "Reading onitemi/data/mbd/training/24328855_15.tiff failed trying the next one\n",
      "Reading onitemi/data/mbd/training/23128990_15.tiff failed trying the next one\n",
      "Reading onitemi/data/mbd/training/23129020_15.tiff failed trying the next one\n",
      "Reading onitemi/data/mbd/training/24328840_15.tiff failed trying the next one\n",
      "Reading onitemi/data/mbd/training/24329035_15.tiff failed trying the next one\n",
      "Reading onitemi/data/mbd/training/23129005_15.tiff failed trying the next one\n",
      "Reading onitemi/data/mbd/training/23128975_15.tiff failed trying the next one\n",
      "Reading onitemi/data/mbd/training/22829020_15.tiff failed trying the next one\n"
     ]
    }
   ],
   "source": [
    "patches,labels=data_provider()"
   ]
  },
  {
   "cell_type": "code",
   "execution_count": null,
   "metadata": {
    "ExecuteTime": {
     "end_time": "2017-11-22T07:39:39.037435+02:00",
     "start_time": "2017-11-22T07:39:38.972948"
    },
    "collapsed": true,
    "run_control": {
     "frozen": false,
     "read_only": false
    }
   },
   "outputs": [],
   "source": []
  },
  {
   "cell_type": "code",
   "execution_count": 116,
   "metadata": {
    "ExecuteTime": {
     "end_time": "2017-10-06T18:43:17.243770+02:00",
     "start_time": "2017-10-06T18:43:16.885825"
    },
    "run_control": {
     "frozen": false,
     "read_only": false
    }
   },
   "outputs": [
    {
     "data": {
      "image/png": "[encoded data removed]",
      "text/plain": [
       "<matplotlib.figure.Figure at 0x1482ecad0>"
      ]
     },
     "metadata": {},
     "output_type": "display_data"
    }
   ],
   "source": [
    "ith=11\n",
    "show_image(patches[ith],labels[ith][...,0])"
   ]
  },
  {
   "cell_type": "code",
   "execution_count": null,
   "metadata": {
    "ExecuteTime": {
     "end_time": "2017-10-07T20:02:44.005781+02:00",
     "start_time": "2017-10-07T20:02:43.920450"
    },
    "collapsed": true,
    "run_control": {
     "frozen": false,
     "read_only": false
    }
   },
   "outputs": [],
   "source": []
  },
  {
   "cell_type": "code",
   "execution_count": null,
   "metadata": {
    "ExecuteTime": {
     "end_time": "2017-10-08T20:31:34.119227+02:00",
     "start_time": "2017-10-08T20:31:33.529562"
    },
    "collapsed": true,
    "run_control": {
     "frozen": false,
     "read_only": false
    }
   },
   "outputs": [],
   "source": []
  },
  {
   "cell_type": "code",
   "execution_count": null,
   "metadata": {
    "collapsed": true,
    "run_control": {
     "frozen": false,
     "read_only": false
    }
   },
   "outputs": [],
   "source": []
  }
 ],
 "metadata": {
  "hide_input": false,
  "kernelspec": {
   "display_name": "Python 3",
   "language": "python",
   "name": "python3"
  },
  "language_info": {
   "codemirror_mode": {
    "name": "ipython",
    "version": 3
   },
   "file_extension": ".py",
   "mimetype": "text/x-python",
   "name": "python",
   "nbconvert_exporter": "python",
   "pygments_lexer": "ipython3",
   "version": "3.6.0"
  },
  "latex_envs": {
   "bibliofile": "biblio.bib",
   "cite_by": "apalike",
   "current_citInitial": 1,
   "eqLabelWithNumbers": true,
   "eqNumInitial": 0
  }
 },
 "nbformat": 4,
 "nbformat_minor": 2
}
