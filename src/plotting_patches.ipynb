{
 "cells": [
  {
   "cell_type": "code",
   "execution_count": 1,
   "metadata": {
    "collapsed": true
   },
   "outputs": [],
   "source": [
    "import pickle\n",
    "import numpy as np\n",
    "import tifffile as tiff\n",
    "import matplotlib.pyplot as plt\n",
    "import matplotlib\n",
    "%matplotlib inline"
   ]
  },
  {
   "cell_type": "code",
   "execution_count": null,
   "metadata": {
    "collapsed": true
   },
   "outputs": [],
   "source": [
    "f = open('L1C_T30UXC_A007999_20170102T111441_20.pickle', 'rb')\n",
    "train_data = pickle.load(f)"
   ]
  },
  {
   "cell_type": "code",
   "execution_count": null,
   "metadata": {
    "collapsed": true
   },
   "outputs": [],
   "source": [
    "features = train_data['features']\n",
    "labels = train_data['labels']\n",
    "np.shape(features)\n",
    "np.shape(labels)\n",
    "A = np.multiply(fefor x in range(0, patch_size[0], step):\n",
    "        if x + patch_size[0] > nrow:\n",
    "            x = imshape[0] - patch_size[0]\n",
    "        for y in range(0, ncol, step):\n",
    "            if y + patch_size[1] > ncol:\n",
    "                y = ncol - patch_size[1]\n",
    "            yield x, y, patch_size[0], patch_size[1]\n",
    "atures[1][0].astype(np.float32), 1.0/255)\n",
    "X = np.multiply(features[0][0].astype(np.float32), 1.0/255)\n",
    "tiff.imshow(A)\n",
    "tiff.imshow(X)\n",
    "l = labels[0][0]\n",
    "tiff.imshow(l)"
   ]
  },
  {
   "cell_type": "code",
   "execution_count": 9,
   "metadata": {},
   "outputs": [
    {
     "name": "stdout",
     "output_type": "stream",
     "text": [
      "1436\n",
      "1436\n",
      "1436\n",
      "1436\n"
     ]
    }
   ],
   "source": [
    "for x in range(0, 1500, 32):\n",
    "    if x + 64 > 1500:\n",
    "        x = 1500 - 64\n",
    "        print(x)\n",
    "for y in range(0, 1500, 32):\n",
    "    if y + 64 > 1500:\n",
    "        y = 1500 - 64\n",
    "        print(x)\n"
   ]
  },
  {
   "cell_type": "code",
   "execution_count": null,
   "metadata": {
    "collapsed": true
   },
   "outputs": [],
   "source": []
  }
 ],
 "metadata": {
  "kernelspec": {
   "display_name": "Python 3",
   "language": "python",
   "name": "python3"
  },
  "language_info": {
   "codemirror_mode": {
    "name": "ipython",
    "version": 3
   },
   "file_extension": ".py",
   "mimetype": "text/x-python",
   "name": "python",
   "nbconvert_exporter": "python",
   "pygments_lexer": "ipython3",
   "version": "3.6.0"
  }
 },
 "nbformat": 4,
 "nbformat_minor": 2
}
