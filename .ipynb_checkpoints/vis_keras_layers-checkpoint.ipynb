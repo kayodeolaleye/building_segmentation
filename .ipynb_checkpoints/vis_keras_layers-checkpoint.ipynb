{
 "cells": [
  {
   "cell_type": "code",
   "execution_count": 4,
   "metadata": {
    "collapsed": true
   },
   "outputs": [],
   "source": [
    "import pickle\n",
    "import numpy as np\n",
    "import tifffile as tiff\n",
    "import matplotlib.pyplot as plt\n",
    "import matplotlib\n",
    "\n",
    "import keras.models\n",
    "\n",
    "%matplotlib inline"
   ]
  },
  {
   "cell_type": "code",
   "execution_count": 2,
   "metadata": {},
   "outputs": [
    {
     "name": "stderr",
     "output_type": "stream",
     "text": [
      "/apps/chpc/bio/python/3.6.0_gcc-6.3.0/lib/python3.6/site-packages/matplotlib/__init__.py:1405: UserWarning: \n",
      "This call to matplotlib.use() has no effect because the backend has already\n",
      "been chosen; matplotlib.use() must be called *before* pylab, matplotlib.pyplot,\n",
      "or matplotlib.backends is imported for the first time.\n",
      "\n",
      "  warnings.warn(_use_error_msg)\n",
      "Using TensorFlow backend.\n"
     ]
    },
    {
     "name": "stdout",
     "output_type": "stream",
     "text": [
      "base dir:  /home/kolaleye/lustre/onitemi/data\n",
      "cache dir:  /home/kolaleye/lustre/onitemi/data/working/train_data/patches\n",
      "cache dir:  /home/kolaleye/lustre/onitemi/data/working/train_data/building_bitmaps\n",
      "models dir:  /home/kolaleye/lustre/onitemi/data/working/models\n",
      "keras:  2.0.5\n",
      "tensorflow:  1.2.0\n"
     ]
    }
   ],
   "source": [
    "from evaluation import *"
   ]
  },
  {
   "cell_type": "code",
   "execution_count": 16,
   "metadata": {},
   "outputs": [],
   "source": [
    "f = open('/home/kolaleye/lustre/onitemi/data/working/train_data/patches/22678915_15_64.pickle', 'rb')\n",
    "train_data = pickle.load(f)"
   ]
  },
  {
   "cell_type": "code",
   "execution_count": 68,
   "metadata": {},
   "outputs": [],
   "source": [
    "def get_image(i=0):\n",
    "    rgb=train_data['features'][i][0]\n",
    "    label=train_data['labels'][i][0]\n",
    "    test=rgb_image.reshape((1,3,64,64))\n",
    "    return test,label,rgb"
   ]
  },
  {
   "cell_type": "code",
   "execution_count": null,
   "metadata": {
    "collapsed": true
   },
   "outputs": [],
   "source": [
    "features = train_data['features']\n",
    "labels = train_data['labels']\n",
    "np.shape(features)\n",
    "np.shape(labels)\n",
    "A = np.multiply(features[1][0].astype(np.float32), 1.0/255)\n",
    "X = np.multiply(features[0][0].astype(np.float32), 1.0/255)\n",
    "tiff.imshow(A)\n",
    "tiff.imshow(X)\n",
    "l = labels[0][0]\n",
    "tiff.imshow(l)"
   ]
  },
  {
   "cell_type": "code",
   "execution_count": 9,
   "metadata": {},
   "outputs": [],
   "source": [
    "class params():\n",
    "    def __init__(self):\n",
    "        self.architecture='one_layer'\n",
    "        self.patch_size=64\n",
    "        self.model_id='15_09_2017_1113_sentinel_one_layer'\n",
    "        self.model_dir=\"../data/working/models/\"\n",
    "        self.out_format=\"GeoTIFF\"\n",
    "        \n",
    "    def load_model(self):\n",
    "        \"\"\" Load a keras model and its weights with the given ID \"\"\"\n",
    "        \n",
    "        model_dir = os.path.join(self.model_dir, self.model_id)\n",
    "\n",
    "        print(\"Load model in {}.\".format(model_dir))\n",
    "        model_file = os.path.join(model_dir, \"model.json\")\n",
    "        with open(model_file, \"r\") as f:\n",
    "            json_file = f.read()\n",
    "            model = keras.models.model_from_json(json_file)\n",
    "\n",
    "        weights_file = os.path.join(model_dir, \"weights.hdf5\")\n",
    "        model.load_weights(weights_file)\n",
    "\n",
    "        return model\n",
    "\n",
    "args=params()\n",
    "\n",
    "hyperparameters = dict([\n",
    "    (\"architecture\", args.architecture),\n",
    "    # Hyperparameters for the first convolutional layer.\n",
    "    (\"nb_filters_1\", 64),\n",
    "    (\"filter_size_1\", 9),\n",
    "    (\"stride_1\", (2, 2)),\n",
    "    # Hyperparameter for the first pooling layer.\n",
    "    (\"pool_size_1\", (2, 2)),\n",
    "    # Hyperparameter for the second convolutional layer (when \n",
    "    # two layer architecture is used).\n",
    "    (\"nb_filters_2\", 128),\n",
    "    (\"filter_size_2\", 5),\n",
    "    (\"stride_2\", (1, 1)),\n",
    "    # Hyperparameters for Stochastic Gradient Descent.\n",
    "    (\"learning_rate\", 0.05),\n",
    "    (\"momentum\", 0.9),\n",
    "    (\"decay\", 0.0)\n",
    "    ])"
   ]
  },
  {
   "cell_type": "code",
   "execution_count": 10,
   "metadata": {},
   "outputs": [
    {
     "name": "stdout",
     "output_type": "stream",
     "text": [
      "Load model in ../data/working/models/15_09_2017_1113_sentinel_one_layer.\n"
     ]
    }
   ],
   "source": [
    "from model import *\n",
    "model = compile_model(args.load_model(), hyperparameters[\"learning_rate\"], \n",
    "                      hyperparameters['momentum'], \n",
    "                      hyperparameters[\"decay\"])\n",
    "\n",
    "\n",
    "#evaluate_model(model, image_test, labels_test, args.patch_size,\n",
    "#               args.model_dir, out_format=args.out_format)"
   ]
  },
  {
   "cell_type": "code",
   "execution_count": 13,
   "metadata": {},
   "outputs": [],
   "source": [
    "layer1=model.get_layer(index=1)"
   ]
  },
  {
   "cell_type": "code",
   "execution_count": 84,
   "metadata": {},
   "outputs": [
    {
     "data": {
      "text/plain": [
       "(-0.5, 63.5, 63.5, -0.5)"
      ]
     },
     "execution_count": 84,
     "metadata": {},
     "output_type": "execute_result"
    },
    {
     "data": {
      "image/png": "[encoded data removed]",
      "text/plain": [
       "<matplotlib.figure.Figure at 0x7fff782eae10>"
      ]
     },
     "metadata": {},
     "output_type": "display_data"
    }
   ],
   "source": [
    "image,label,rgb = get_image(i=18)\n",
    "fig,(ax,ax1)=plt.subplots(1,2,figsize=(20,8))\n",
    "plt.sca(ax)\n",
    "plt.imshow(rgb,aspect='auto')\n",
    "plt.axis('off')\n",
    "plt.sca(ax1)\n",
    "plt.imshow(label,aspect='auto')\n",
    "plt.axis('off')"
   ]
  },
  {
   "cell_type": "code",
   "execution_count": 65,
   "metadata": {},
   "outputs": [
    {
     "ename": "ValueError",
     "evalue": "Layer conv2d_1 was called with an input that isn't a symbolic tensor. Received type: <class 'numpy.ndarray'>. Full input: [array([[[[130, 136, 141, ..., 128, 135, 120],\n         [125, 130, 140, ...,  78, 102, 109],\n         [ 91, 119, 116, ..., 113, 119, 105],\n         ..., \n         [130, 127, 109, ..., 115, 137, 130],\n         [116, 136, 127, ..., 124, 130, 134],\n         [138, 134, 122, ..., 147, 136, 119]],\n\n        [[122, 122, 142, ..., 127, 130, 122],\n         [109, 136, 127, ..., 124, 129, 133],\n         [129, 125, 112, ..., 147, 137, 128],\n         ..., \n         [130, 164, 154, ..., 133, 126, 107],\n         [101,  92,  76, ..., 134, 117, 159],\n         [146, 128, 167, ..., 114, 130, 123]],\n\n        [[116, 171, 156, ..., 123, 110,  92],\n         [ 32,  32,  40, ..., 136, 119, 141],\n         [133, 115, 133, ..., 128, 137, 128],\n         ..., \n         [ 76,  71,  52, ...,  97,  96, 121],\n         [124, 109, 111, ...,  66,  82,  72],\n         [ 68,  63,  54, ...,  64,  56,  38]]]], dtype=uint8)]. All inputs to the layer should be tensors.",
     "output_type": "error",
     "traceback": [
      "\u001b[0;31m---------------------------------------------------------------------------\u001b[0m",
      "\u001b[0;31mValueError\u001b[0m                                Traceback (most recent call last)",
      "\u001b[0;32m/apps/chpc/bio/python/3.6.0_gcc-6.3.0/lib/python3.6/site-packages/keras/engine/topology.py\u001b[0m in \u001b[0;36massert_input_compatibility\u001b[0;34m(self, inputs)\u001b[0m\n\u001b[1;32m    418\u001b[0m             \u001b[0;32mtry\u001b[0m\u001b[0;34m:\u001b[0m\u001b[0;34m\u001b[0m\u001b[0m\n\u001b[0;32m--> 419\u001b[0;31m                 \u001b[0mK\u001b[0m\u001b[0;34m.\u001b[0m\u001b[0mis_keras_tensor\u001b[0m\u001b[0;34m(\u001b[0m\u001b[0mx\u001b[0m\u001b[0;34m)\u001b[0m\u001b[0;34m\u001b[0m\u001b[0m\n\u001b[0m\u001b[1;32m    420\u001b[0m             \u001b[0;32mexcept\u001b[0m \u001b[0mValueError\u001b[0m\u001b[0;34m:\u001b[0m\u001b[0;34m\u001b[0m\u001b[0m\n",
      "\u001b[0;32m/apps/chpc/bio/python/3.6.0_gcc-6.3.0/lib/python3.6/site-packages/keras/backend/tensorflow_backend.py\u001b[0m in \u001b[0;36mis_keras_tensor\u001b[0;34m(x)\u001b[0m\n\u001b[1;32m    391\u001b[0m                           tf.SparseTensor)):\n\u001b[0;32m--> 392\u001b[0;31m         raise ValueError('Unexpectedly found an instance of type `' + str(type(x)) + '`. '\n\u001b[0m\u001b[1;32m    393\u001b[0m                          'Expected a symbolic tensor instance.')\n",
      "\u001b[0;31mValueError\u001b[0m: Unexpectedly found an instance of type `<class 'numpy.ndarray'>`. Expected a symbolic tensor instance.",
      "\nDuring handling of the above exception, another exception occurred:\n",
      "\u001b[0;31mValueError\u001b[0m                                Traceback (most recent call last)",
      "\u001b[0;32m<ipython-input-65-42ba2e979b85>\u001b[0m in \u001b[0;36m<module>\u001b[0;34m()\u001b[0m\n\u001b[0;32m----> 1\u001b[0;31m \u001b[0mres\u001b[0m\u001b[0;34m=\u001b[0m\u001b[0mlayer1\u001b[0m\u001b[0;34m(\u001b[0m\u001b[0mtest_image\u001b[0m\u001b[0;34m)\u001b[0m\u001b[0;34m\u001b[0m\u001b[0m\n\u001b[0m",
      "\u001b[0;32m/apps/chpc/bio/python/3.6.0_gcc-6.3.0/lib/python3.6/site-packages/keras/engine/topology.py\u001b[0m in \u001b[0;36m__call__\u001b[0;34m(self, inputs, **kwargs)\u001b[0m\n\u001b[1;32m    578\u001b[0m             \u001b[0;31m# Raise exceptions in case the input is not compatible\u001b[0m\u001b[0;34m\u001b[0m\u001b[0;34m\u001b[0m\u001b[0m\n\u001b[1;32m    579\u001b[0m             \u001b[0;31m# with the input_spec set at build time.\u001b[0m\u001b[0;34m\u001b[0m\u001b[0;34m\u001b[0m\u001b[0m\n\u001b[0;32m--> 580\u001b[0;31m             \u001b[0mself\u001b[0m\u001b[0;34m.\u001b[0m\u001b[0massert_input_compatibility\u001b[0m\u001b[0;34m(\u001b[0m\u001b[0minputs\u001b[0m\u001b[0;34m)\u001b[0m\u001b[0;34m\u001b[0m\u001b[0m\n\u001b[0m\u001b[1;32m    581\u001b[0m \u001b[0;34m\u001b[0m\u001b[0m\n\u001b[1;32m    582\u001b[0m             \u001b[0;31m# Handle mask propagation.\u001b[0m\u001b[0;34m\u001b[0m\u001b[0;34m\u001b[0m\u001b[0m\n",
      "\u001b[0;32m/apps/chpc/bio/python/3.6.0_gcc-6.3.0/lib/python3.6/site-packages/keras/engine/topology.py\u001b[0m in \u001b[0;36massert_input_compatibility\u001b[0;34m(self, inputs)\u001b[0m\n\u001b[1;32m    423\u001b[0m                                  \u001b[0;34m'Received type: '\u001b[0m \u001b[0;34m+\u001b[0m\u001b[0;34m\u001b[0m\u001b[0m\n\u001b[1;32m    424\u001b[0m                                  \u001b[0mstr\u001b[0m\u001b[0;34m(\u001b[0m\u001b[0mtype\u001b[0m\u001b[0;34m(\u001b[0m\u001b[0mx\u001b[0m\u001b[0;34m)\u001b[0m\u001b[0;34m)\u001b[0m \u001b[0;34m+\u001b[0m \u001b[0;34m'. Full input: '\u001b[0m \u001b[0;34m+\u001b[0m\u001b[0;34m\u001b[0m\u001b[0m\n\u001b[0;32m--> 425\u001b[0;31m                                  \u001b[0mstr\u001b[0m\u001b[0;34m(\u001b[0m\u001b[0minputs\u001b[0m\u001b[0;34m)\u001b[0m \u001b[0;34m+\u001b[0m \u001b[0;34m'. All inputs to the layer '\u001b[0m\u001b[0;34m\u001b[0m\u001b[0m\n\u001b[0m\u001b[1;32m    426\u001b[0m                                  'should be tensors.')\n\u001b[1;32m    427\u001b[0m \u001b[0;34m\u001b[0m\u001b[0m\n",
      "\u001b[0;31mValueError\u001b[0m: Layer conv2d_1 was called with an input that isn't a symbolic tensor. Received type: <class 'numpy.ndarray'>. Full input: [array([[[[130, 136, 141, ..., 128, 135, 120],\n         [125, 130, 140, ...,  78, 102, 109],\n         [ 91, 119, 116, ..., 113, 119, 105],\n         ..., \n         [130, 127, 109, ..., 115, 137, 130],\n         [116, 136, 127, ..., 124, 130, 134],\n         [138, 134, 122, ..., 147, 136, 119]],\n\n        [[122, 122, 142, ..., 127, 130, 122],\n         [109, 136, 127, ..., 124, 129, 133],\n         [129, 125, 112, ..., 147, 137, 128],\n         ..., \n         [130, 164, 154, ..., 133, 126, 107],\n         [101,  92,  76, ..., 134, 117, 159],\n         [146, 128, 167, ..., 114, 130, 123]],\n\n        [[116, 171, 156, ..., 123, 110,  92],\n         [ 32,  32,  40, ..., 136, 119, 141],\n         [133, 115, 133, ..., 128, 137, 128],\n         ..., \n         [ 76,  71,  52, ...,  97,  96, 121],\n         [124, 109, 111, ...,  66,  82,  72],\n         [ 68,  63,  54, ...,  64,  56,  38]]]], dtype=uint8)]. All inputs to the layer should be tensors."
     ]
    }
   ],
   "source": [
    "s=(1,3,64,64)\n",
    "# the model we extract just the patches\n",
    "X, y = get_matrix_form(rgb, labels, patch_size)\n",
    "\n",
    "X = normalise_input(X)\n",
    "res=layer1(test_image)"
   ]
  },
  {
   "cell_type": "code",
   "execution_count": null,
   "metadata": {},
   "outputs": [],
   "source": []
  },
  {
   "cell_type": "code",
   "execution_count": null,
   "metadata": {
    "collapsed": true
   },
   "outputs": [],
   "source": []
  }
 ],
 "metadata": {
  "kernelspec": {
   "display_name": "Python 3",
   "language": "python",
   "name": "python3"
  },
  "language_info": {
   "codemirror_mode": {
    "name": "ipython",
    "version": 3
   },
   "file_extension": ".py",
   "mimetype": "text/x-python",
   "name": "python",
   "nbconvert_exporter": "python",
   "pygments_lexer": "ipython3",
   "version": "3.6.0"
  }
 },
 "nbformat": 4,
 "nbformat_minor": 2
}
